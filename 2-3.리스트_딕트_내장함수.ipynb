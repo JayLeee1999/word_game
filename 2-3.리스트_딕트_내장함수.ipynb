{
 "cells": [
  {
   "cell_type": "markdown",
   "metadata": {},
   "source": [
    "# 리스트, 딕트 내장함수"
   ]
  },
  {
   "cell_type": "code",
   "execution_count": 2,
   "metadata": {},
   "outputs": [
    {
     "name": "stdout",
     "output_type": "stream",
     "text": [
      "[(0, 1), (1, 2), (2, 3), (3, 4)]\n"
     ]
    }
   ],
   "source": [
    "aaa = [1, 2, 3, 4]\n",
    "print(list((enumerate(aaa))))"
   ]
  },
  {
   "cell_type": "markdown",
   "metadata": {},
   "source": [
    "# zip()"
   ]
  },
  {
   "cell_type": "code",
   "execution_count": 3,
   "metadata": {},
   "outputs": [
    {
     "data": {
      "text/plain": [
       "{'a': 10, 'b': 20, 'c': 30, 'd': 40}"
      ]
     },
     "execution_count": 3,
     "metadata": {},
     "output_type": "execute_result"
    }
   ],
   "source": [
    "a = ['a', 'b', 'c', 'd']\n",
    "b= [10, 20, 30, 40, 50, 60, 70]\n",
    "\n",
    "items = {}\n",
    "for key, value in zip(a,b) :\n",
    "    items[key] = value\n",
    "\n",
    "items"
   ]
  },
  {
   "cell_type": "markdown",
   "metadata": {},
   "source": [
    "# 리스트 컨프리핸션 (내포)"
   ]
  },
  {
   "cell_type": "code",
   "execution_count": null,
   "metadata": {},
   "outputs": [
    {
     "data": {
      "text/plain": [
       "[0, 4, 16, 36, 64, 100, 144, 196, 256, 324]"
      ]
     },
     "execution_count": 5,
     "metadata": {},
     "output_type": "execute_result"
    }
   ],
   "source": [
    "arr = [i * i for i in range(0, 20, 2)]\n",
    "arr"
   ]
  },
  {
   "cell_type": "code",
   "execution_count": 7,
   "metadata": {},
   "outputs": [
    {
     "name": "stdout",
     "output_type": "stream",
     "text": [
      "[0, 4, 16, 36, 64, 100, 144, 196, 256, 324]\n"
     ]
    }
   ],
   "source": [
    "# [i * i for i in range(0, 20, 2)]\n",
    "arr = []\n",
    "for i in range(0, 20, 2):\n",
    "    arr.append(i*i)\n",
    "print(arr) "
   ]
  },
  {
   "cell_type": "code",
   "execution_count": 13,
   "metadata": {},
   "outputs": [
    {
     "data": {
      "text/plain": [
       "['사과', '복숭아', '수박', '딸기']"
      ]
     },
     "execution_count": 13,
     "metadata": {},
     "output_type": "execute_result"
    }
   ],
   "source": [
    "arr = ['사과', '복숭아', '바나나', '수박', '딸기']\n",
    "output = [fruit for fruit in arr if fruit !='바나나']\n",
    "output"
   ]
  },
  {
   "cell_type": "code",
   "execution_count": 20,
   "metadata": {},
   "outputs": [
    {
     "data": {
      "text/plain": [
       "['사과', '복숭아', '수박', '딸기']"
      ]
     },
     "execution_count": 20,
     "metadata": {},
     "output_type": "execute_result"
    }
   ],
   "source": [
    "arr = ['사과', '복숭아', '바나나', '수박', '딸기']\n",
    "output = []\n",
    "for fruit in arr:\n",
    "    if fruit != '바나나':\n",
    "        output.append(fruit)\n",
    "output"
   ]
  },
  {
   "cell_type": "code",
   "execution_count": 21,
   "metadata": {},
   "outputs": [
    {
     "name": "stdout",
     "output_type": "stream",
     "text": [
      "{'name': '기사', 'hp': 200, 'mp': 30, 'level': 5}\n"
     ]
    }
   ],
   "source": [
    "key_list = ['name', 'hp', 'mp', 'level']\n",
    "value_list = ['기사', 200, 30, 5]\n",
    "character = {}\n",
    "for key, value in zip(key_list, value_list):\n",
    "    character[key] = value\n",
    "print(character)"
   ]
  },
  {
   "cell_type": "code",
   "execution_count": null,
   "metadata": {},
   "outputs": [],
   "source": [
    "decimal = []\n",
    "if num == 2:\n",
    "    decimal.append(num)\n",
    "deno = num - 1\n",
    "\n",
    "\n",
    "print('1~100까지의 소수결과\\n', decimal)"
   ]
  },
  {
   "cell_type": "markdown",
   "metadata": {},
   "source": [
    "# 문제 3"
   ]
  },
  {
   "cell_type": "code",
   "execution_count": 5,
   "metadata": {},
   "outputs": [
    {
     "name": "stdout",
     "output_type": "stream",
     "text": [
      "25\n",
      "[2, 3, 5, 7, 11, 13, 17, 19, 23, 29, 31, 37, 41, 43, 47, 53, 59, 61, 67, 71, 73, 79, 83, 89, 97]\n"
     ]
    }
   ],
   "source": [
    "# 필요한 변수\n",
    "# decimal = 소수를 저장\n",
    "# deno = num-1 <-  denominator(분모)\n",
    "\n",
    "# 1~100까지 소수 구하기\n",
    "# 2 <- 소수\n",
    "# 1~100 (range(2,101)) <- for in\n",
    "# 숫자가 한개씩 넘오다.\n",
    "    # 소수인지 판단 조건 : \n",
    "\n",
    "# 1~10까지 수 중에서 소수를 구한다.\n",
    "decimal = []\n",
    "max_num =100\n",
    "for num in range(2,max_num):\n",
    "    if num == 2:\n",
    "        decimal.append(num)\n",
    "        continue\n",
    "    deno = num -1 # 나누주는 수의 마지막 값\n",
    "    # 3 소수 판단 <- 3/2(소수)\n",
    "    # 4 소수 판단 <- 4/2(소수 아님), 4/3 \n",
    "    # 5 소수 판단 <- 5/2, 5/3, 5/4(소수)\n",
    "    # 6 소수 판단 <- 6/2(소수 아님), 6/3, 6/4, 6/5\n",
    "    while deno >= 2:\n",
    "        # print(f\"num: {num}, deno: {deno}\")\n",
    "        # 소수가 아닌지\n",
    "        if num % deno == 0:\n",
    "            break\n",
    "               \n",
    "        # deno(나누는 수)가 2까지 왔을때, 소수 목록에 추가\n",
    "        if deno == 2: \n",
    "            decimal.append(num)\n",
    "\n",
    "        # 분모를 1씩 감소\n",
    "        deno = deno - 1\n",
    "print(len(decimal))\n",
    "print(decimal)"
   ]
  },
  {
   "cell_type": "code",
   "execution_count": 6,
   "metadata": {},
   "outputs": [
    {
     "name": "stdout",
     "output_type": "stream",
     "text": [
      "25\n",
      "[2, 3, 5, 7, 11, 13, 17, 19, 23, 29, 31, 37, 41, 43, 47, 53, 59, 61, 67, 71, 73, 79, 83, 89, 97]\n"
     ]
    }
   ],
   "source": [
    "# 필요한 변수\n",
    "# decimal = 소수를 저장\n",
    "# deno = num-1 <-  denominator(분모)\n",
    "\n",
    "# 1~100까지 소수 구하기\n",
    "# 2 <- 소수\n",
    "# 1~100 (range(2,101)) <- for in\n",
    "# 숫자가 한개씩 넘옴\n",
    "    # 자기 자신-1에서 2까지 반복\n",
    "    # 숫자/2로 나눠서 떨짐 -> break\n",
    "    # 나누는 수가 2까지 도달하면 -> 소수임\n",
    "    # 1감소 시키면서 나눔\n",
    "\n",
    "# 먼저 : 작은수로 테스트, 1~10까지 수 중에서 소수를 구한다.\n",
    "\n",
    "decimal = []\n",
    "max_num =100\n",
    "for num in range(2,max_num):\n",
    "    if num == 2 or num == 3:\n",
    "        decimal.append(num)\n",
    "        continue\n",
    "    deno = num -1 # 나누주는 수의 마지막 값\n",
    "    # 3 소수 판단 <- 3*1\n",
    "    # 4 소수 판단 <- 1*4, 4*1, 2*2\n",
    "    # 5 소수 판단 <- 5*1\n",
    "    # 6 소수 판단 <- 1*6, 2*3, 3*2, 6*1\n",
    "    # 7 소수 판단 <- 7*1\n",
    "    # 8 소수 판단 <- 1*8, 2*4, 4*2, 8*1\n",
    "    # 9 소수 판단 <- 9*1, \n",
    "    while ((num/2) >= 2):\n",
    "        # print(f\"num: {num}, deno: {deno}\")\n",
    "        # 소수가 아닌지\n",
    "        if num % deno == 0:\n",
    "            break\n",
    "               \n",
    "        # deno(나누는 수)가 2까지 왔을때, 소수 목록에 추가\n",
    "        if deno == 2: \n",
    "            decimal.append(num)\n",
    "            \n",
    "        # 분모를 1씩 감소\n",
    "        deno = deno - 1\n",
    "\n",
    "print(len(decimal))\n",
    "print(decimal)"
   ]
  }
 ],
 "metadata": {
  "kernelspec": {
   "display_name": "Python 3",
   "language": "python",
   "name": "python3"
  },
  "language_info": {
   "codemirror_mode": {
    "name": "ipython",
    "version": 3
   },
   "file_extension": ".py",
   "mimetype": "text/x-python",
   "name": "python",
   "nbconvert_exporter": "python",
   "pygments_lexer": "ipython3",
   "version": "3.12.8"
  }
 },
 "nbformat": 4,
 "nbformat_minor": 2
}

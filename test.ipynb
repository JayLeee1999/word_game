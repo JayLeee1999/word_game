{
 "cells": [
  {
   "cell_type": "markdown",
   "metadata": {},
   "source": [
    "# 파이썬 코딩"
   ]
  },
  {
   "cell_type": "code",
   "execution_count": 10,
   "metadata": {},
   "outputs": [
    {
     "name": "stdout",
     "output_type": "stream",
     "text": [
      "헬로우~\n",
      "헬로우~hello~\n",
      "잘하자, 제발 ! 파이썬\n"
     ]
    }
   ],
   "source": [
    "print(\"헬로우~\")\n",
    "print(\"헬로우~hello~\")\n",
    "\n",
    "word = \"! 파이썬\"\n",
    "print(\"잘하자, 제발 {}\".format(word))"
   ]
  },
  {
   "cell_type": "code",
   "execution_count": 9,
   "metadata": {},
   "outputs": [
    {
     "name": "stdout",
     "output_type": "stream",
     "text": [
      "헬로우~\n",
      "헬로우~hello~\n",
      "잘하자, 제발 ! 파이썬\n",
      "그만~\n"
     ]
    }
   ],
   "source": [
    "print(\"헬로우~\")\n",
    "print(\"헬로우~hello~\")\n",
    "\n",
    "word = \"! 파이썬\"\n",
    "print(\"잘하자, 제발 {}\".format(word))\n",
    "print(\"그만~\")"
   ]
  },
  {
   "cell_type": "code",
   "execution_count": 1,
   "metadata": {},
   "outputs": [
    {
     "name": "stdout",
     "output_type": "stream",
     "text": [
      "안녕 파이썬\n"
     ]
    }
   ],
   "source": [
    "print(\"안녕 파이썬\")"
   ]
  }
 ],
 "metadata": {
  "kernelspec": {
   "display_name": "Python 3",
   "language": "python",
   "name": "python3"
  },
  "language_info": {
   "codemirror_mode": {
    "name": "ipython",
    "version": 3
   },
   "file_extension": ".py",
   "mimetype": "text/x-python",
   "name": "python",
   "nbconvert_exporter": "python",
   "pygments_lexer": "ipython3",
   "version": "3.12.8"
  }
 },
 "nbformat": 4,
 "nbformat_minor": 2
}

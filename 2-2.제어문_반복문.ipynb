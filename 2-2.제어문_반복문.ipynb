{
 "cells": [
  {
   "cell_type": "markdown",
   "metadata": {},
   "source": [
    "# 반복문-for"
   ]
  },
  {
   "cell_type": "code",
   "execution_count": 15,
   "metadata": {},
   "outputs": [
    {
     "name": "stdout",
     "output_type": "stream",
     "text": [
      "숫자 1\n",
      "숫자 2\n",
      "숫자 3\n",
      "숫자 4\n",
      "숫자 5\n",
      "숫자 6\n",
      "숫자 7\n",
      "숫자 8\n",
      "숫자 9\n",
      "숫자 10\n"
     ]
    }
   ],
   "source": [
    "# 1-10까지 숫자, 차례대로 출력\n",
    "import time\n",
    "for num in list(range(1, 11):\n",
    "    print(f\"숫자 {num}\")\n",
    "    time.sleep(1) #sec\n"
   ]
  },
  {
   "cell_type": "code",
   "execution_count": 1,
   "metadata": {},
   "outputs": [
    {
     "name": "stdout",
     "output_type": "stream",
     "text": [
      "100이상의 수 273\n",
      "100이상의 수 103\n",
      "100이상의 수 800\n"
     ]
    }
   ],
   "source": [
    "numbers = [273, 103, 5, 32, 65, 9, 72, 800, 99]\n",
    "for i in numbers:\n",
    "    if i >= 100:\n",
    "        print(\"100이상의 수\", i)"
   ]
  },
  {
   "cell_type": "code",
   "execution_count": 123,
   "metadata": {},
   "outputs": [
    {
     "name": "stdout",
     "output_type": "stream",
     "text": [
      "- 100 이상의 수: 273\n",
      "- 100 이상의 수: 103\n",
      "- 100 이상의 수: 800\n"
     ]
    }
   ],
   "source": [
    "numbers = [273, 103, 5, 32, 65, 9, 72, 800, 99]\n",
    "\n",
    "for number in numbers:\n",
    "    if number >= 100:\n",
    "        print(f\"- 100 이상의 수: {number}\")"
   ]
  },
  {
   "cell_type": "code",
   "execution_count": null,
   "metadata": {},
   "outputs": [],
   "source": [
    "numbers = [273, 103, 5, 32, 65, 9, 72, 800, 99]\n",
    "\n",
    "for number in numbers:\n",
    "    if number >= 100:\n",
    "        print(f\"- 100 이상의 수: {number}\")"
   ]
  },
  {
   "cell_type": "code",
   "execution_count": 8,
   "metadata": {},
   "outputs": [
    {
     "data": {
      "text/plain": [
       "range"
      ]
     },
     "execution_count": 8,
     "metadata": {},
     "output_type": "execute_result"
    }
   ],
   "source": [
    "nums = range(1, 11)\n",
    "type(nums)"
   ]
  },
  {
   "cell_type": "code",
   "execution_count": 14,
   "metadata": {},
   "outputs": [
    {
     "name": "stdout",
     "output_type": "stream",
     "text": [
      "[0, 2, 4, 6, 8, 10, 12, 14, 16, 18, 20, 22, 24, 26, 28, 30, 32, 34, 36, 38, 40, 42, 44, 46, 48, 50, 52, 54, 56, 58, 60, 62, 64, 66, 68, 70, 72, 74, 76, 78, 80, 82, 84, 86, 88, 90, 92, 94, 96, 98, 100]\n",
      "<class 'list'>\n"
     ]
    }
   ],
   "source": [
    "# range (start, stop(n-1), step)\n",
    "nums = list(range(0, 101, 2))\n",
    "print(nums)\n",
    "print(type(nums))"
   ]
  },
  {
   "cell_type": "markdown",
   "metadata": {},
   "source": [
    "# 리스트 자료형"
   ]
  },
  {
   "cell_type": "code",
   "execution_count": 21,
   "metadata": {},
   "outputs": [
    {
     "data": {
      "text/plain": [
       "[1, 2, 3, 4, '안녕']"
      ]
     },
     "execution_count": 21,
     "metadata": {},
     "output_type": "execute_result"
    }
   ],
   "source": [
    "list_val = [1, 2, 3, 4, \"안녕\"]\n",
    "list_val"
   ]
  },
  {
   "cell_type": "code",
   "execution_count": 19,
   "metadata": {},
   "outputs": [
    {
     "data": {
      "text/plain": [
       "[20, 2, 3, 4, 'hello']"
      ]
     },
     "execution_count": 19,
     "metadata": {},
     "output_type": "execute_result"
    }
   ],
   "source": [
    "list_val[0] = 20\n",
    "list_val"
   ]
  },
  {
   "cell_type": "code",
   "execution_count": 22,
   "metadata": {},
   "outputs": [
    {
     "data": {
      "text/plain": [
       "'녕'"
      ]
     },
     "execution_count": 22,
     "metadata": {},
     "output_type": "execute_result"
    }
   ],
   "source": [
    "# '녕 참조'\n",
    "list_val[4][1]"
   ]
  },
  {
   "cell_type": "code",
   "execution_count": 26,
   "metadata": {},
   "outputs": [
    {
     "name": "stdout",
     "output_type": "stream",
     "text": [
      "리스트\n",
      "list_a = [1, 2, 3]\n",
      "리스트\n",
      "list_b = [4, 5, 6]\n",
      "리스트 기본 연산자\n",
      "list_a + list_b [1, 2, 3, 4, 5, 6]\n",
      "list_a * 3 = [1, 2, 3, 1, 2, 3, 1, 2, 3]\n",
      "\n",
      "길이 구하기\n",
      "len(list_a) = 3\n"
     ]
    }
   ],
   "source": [
    "list_a = [1, 2, 3]\n",
    "list_b = [4, 5, 6]\n",
    "print(\"리스트\")\n",
    "print(\"list_a =\", list_a)\n",
    "print(\"리스트\")\n",
    "print(\"list_b =\", list_b)\n",
    "\n",
    "print(\"리스트 기본 연산자\")\n",
    "print(\"list_a + list_b\", list_a + list_b)\n",
    "print(\"list_a * 3 =\", list_a*3)\n",
    "print()\n",
    "\n",
    "print(\"길이 구하기\")\n",
    "print(\"len(list_a) =\", len(list_a))"
   ]
  },
  {
   "cell_type": "code",
   "execution_count": 2,
   "metadata": {},
   "outputs": [
    {
     "name": "stdout",
     "output_type": "stream",
     "text": [
      "[3, 9, 7, 8, 12]\n",
      "[3, 9, 27, 8, 12]\n",
      "[3, 9, 27, 81, 12]\n",
      "[3, 9, 27, 81, 243]\n"
     ]
    },
    {
     "ename": "IndexError",
     "evalue": "list assignment index out of range",
     "output_type": "error",
     "traceback": [
      "\u001b[1;31m---------------------------------------------------------------------------\u001b[0m",
      "\u001b[1;31mIndexError\u001b[0m                                Traceback (most recent call last)",
      "Cell \u001b[1;32mIn[2], line 5\u001b[0m\n\u001b[0;32m      3\u001b[0m idx \u001b[38;5;241m=\u001b[39m \u001b[38;5;241m1\u001b[39m\n\u001b[0;32m      4\u001b[0m \u001b[38;5;28;01mfor\u001b[39;00m a \u001b[38;5;129;01min\u001b[39;00m list_a:\n\u001b[1;32m----> 5\u001b[0m     \u001b[43mlist_a\u001b[49m\u001b[43m[\u001b[49m\u001b[43midx\u001b[49m\u001b[43m]\u001b[49m \u001b[38;5;241m=\u001b[39m a \u001b[38;5;241m*\u001b[39m \u001b[38;5;241m3\u001b[39m\n\u001b[0;32m      6\u001b[0m     idx \u001b[38;5;241m=\u001b[39m idx \u001b[38;5;241m+\u001b[39m \u001b[38;5;241m1\u001b[39m\n\u001b[0;32m      7\u001b[0m     \u001b[38;5;28mprint\u001b[39m(list_a)\n",
      "\u001b[1;31mIndexError\u001b[0m: list assignment index out of range"
     ]
    }
   ],
   "source": [
    "# 아래의 list_a의 각 요소에 3을 곱해서 list_a 에 저장\n",
    "list_a = [3, 4, 7, 8, 12]\n",
    "idx = 1\n",
    "for a in list_a:\n",
    "    list_a[idx] = a * 3\n",
    "    idx = idx + 1\n",
    "    print(list_a)\n",
    "\n",
    "#enumerate 리스트자료형: 반복할 때마다 index와 해당값을 리턴함.\n",
    "# for idx, a in enumerate(list_a):\n",
    "#     list_a[idx] = a * 3\n",
    "# print(list_a)\n",
    "\n",
    "#print(list_a) => (3, 6, 9, 12,15)"
   ]
  },
  {
   "cell_type": "code",
   "execution_count": 1,
   "metadata": {},
   "outputs": [
    {
     "data": {
      "text/plain": [
       "[9, 12, 21, 24, 36]"
      ]
     },
     "execution_count": 1,
     "metadata": {},
     "output_type": "execute_result"
    }
   ],
   "source": [
    "list_a = [3, 4, 7, 8, 12]\n",
    "def mul(a):\n",
    "    return a*3\n",
    "\n",
    "list(map(mul, list_a))\n"
   ]
  },
  {
   "cell_type": "markdown",
   "metadata": {},
   "source": [
    "# 리스트 객체 함수"
   ]
  },
  {
   "cell_type": "code",
   "execution_count": 169,
   "metadata": {},
   "outputs": [],
   "source": [
    "# 리스트객체.함수명()\n",
    "list_a = []\n",
    "list_a.append(20)"
   ]
  },
  {
   "cell_type": "code",
   "execution_count": 170,
   "metadata": {},
   "outputs": [
    {
     "data": {
      "text/plain": [
       "[20]"
      ]
     },
     "execution_count": 170,
     "metadata": {},
     "output_type": "execute_result"
    }
   ],
   "source": [
    "# list_a(1) = 30   >> 1번 인덱스에 리플레이스 \n",
    "# list_a.insert(1, 30)  >> 1번 인덱스에 30을 추가\n",
    "list_a"
   ]
  },
  {
   "cell_type": "code",
   "execution_count": 171,
   "metadata": {},
   "outputs": [],
   "source": [
    "list_b = list_a "
   ]
  },
  {
   "cell_type": "code",
   "execution_count": 172,
   "metadata": {},
   "outputs": [],
   "source": [
    "list_b[0] = 50"
   ]
  },
  {
   "cell_type": "code",
   "execution_count": 173,
   "metadata": {},
   "outputs": [
    {
     "name": "stdout",
     "output_type": "stream",
     "text": [
      "[50]\n",
      "[50]\n"
     ]
    }
   ],
   "source": [
    "print(list_b)\n",
    "print(list_a)"
   ]
  },
  {
   "cell_type": "code",
   "execution_count": 174,
   "metadata": {},
   "outputs": [
    {
     "data": {
      "text/plain": [
       "[50]"
      ]
     },
     "execution_count": 174,
     "metadata": {},
     "output_type": "execute_result"
    }
   ],
   "source": [
    "list_b = list_a.copy()\n",
    "list_b"
   ]
  },
  {
   "cell_type": "code",
   "execution_count": 175,
   "metadata": {},
   "outputs": [
    {
     "name": "stdout",
     "output_type": "stream",
     "text": [
      "[60]\n",
      "[50]\n"
     ]
    }
   ],
   "source": [
    "list_b[0]=60\n",
    "print(list_b)\n",
    "print(list_a)"
   ]
  },
  {
   "cell_type": "code",
   "execution_count": 176,
   "metadata": {},
   "outputs": [
    {
     "data": {
      "text/plain": [
       "[50]"
      ]
     },
     "execution_count": 176,
     "metadata": {},
     "output_type": "execute_result"
    }
   ],
   "source": [
    "list_b = list_a.copy()\n",
    "list_b"
   ]
  },
  {
   "cell_type": "code",
   "execution_count": 178,
   "metadata": {},
   "outputs": [
    {
     "ename": "NameError",
     "evalue": "name 'list_b' is not defined",
     "output_type": "error",
     "traceback": [
      "\u001b[1;31m---------------------------------------------------------------------------\u001b[0m",
      "\u001b[1;31mNameError\u001b[0m                                 Traceback (most recent call last)",
      "Cell \u001b[1;32mIn[178], line 2\u001b[0m\n\u001b[0;32m      1\u001b[0m \u001b[38;5;66;03m# list_b의 객체를 메모리에서 삭제\u001b[39;00m\n\u001b[1;32m----> 2\u001b[0m \u001b[38;5;28;01mdel\u001b[39;00m \u001b[43mlist_b\u001b[49m\n\u001b[0;32m      3\u001b[0m list_b\n\u001b[0;32m      4\u001b[0m \u001b[38;5;28;01mdel\u001b[39;00m list_a\n",
      "\u001b[1;31mNameError\u001b[0m: name 'list_b' is not defined"
     ]
    }
   ],
   "source": [
    "# list_b의 객체를 메모리에서 삭제\n",
    "del list_b\n",
    "list_b\n",
    "del list_a\n",
    "list_a"
   ]
  },
  {
   "cell_type": "code",
   "execution_count": 5,
   "metadata": {},
   "outputs": [
    {
     "name": "stdout",
     "output_type": "stream",
     "text": [
      "[9, 81, 243]\n",
      "[9, 81]\n"
     ]
    }
   ],
   "source": [
    "print(list_a)\n",
    "num = list_a.pop(2)  # 0 index\n",
    "print(list_a)"
   ]
  },
  {
   "cell_type": "code",
   "execution_count": 102,
   "metadata": {},
   "outputs": [
    {
     "data": {
      "text/plain": [
       "['배', '딸기', '포도']"
      ]
     },
     "execution_count": 102,
     "metadata": {},
     "output_type": "execute_result"
    }
   ],
   "source": [
    "list_b = ['사과', '배', '딸기', '사과', '포도']\n",
    "while '사과' in list_b:\n",
    "    list_b.remove('사과')\n",
    "list_b"
   ]
  },
  {
   "cell_type": "code",
   "execution_count": 106,
   "metadata": {},
   "outputs": [
    {
     "data": {
      "text/plain": [
       "[4, 7, 8, 12, 21, 21]"
      ]
     },
     "execution_count": 106,
     "metadata": {},
     "output_type": "execute_result"
    }
   ],
   "source": [
    "list_b = [4, 7, 8, 12, 21, 20, 21, 20]\n",
    "list_b.remove(20)\n",
    "list_b.remove(20)\n",
    "list_b\n",
    "\n"
   ]
  },
  {
   "cell_type": "code",
   "execution_count": 109,
   "metadata": {},
   "outputs": [
    {
     "name": "stdout",
     "output_type": "stream",
     "text": [
      "['배', '사과', '딸기', '사과', '포도']\n",
      "['배', '딸기', '사과', '포도']\n",
      "['배', '딸기', '포도']\n",
      "최종결과 :  ['배', '딸기', '포도']\n"
     ]
    }
   ],
   "source": [
    "list_b = ['사과', '배', '사과', '딸기', '사과', '포도']\n",
    "for val in list_b:\n",
    "    if val == '사과':\n",
    "        list_b.remove(val)\n",
    "        print(list_b)\n",
    "print(\"최종결과 : \", list_b)"
   ]
  },
  {
   "cell_type": "code",
   "execution_count": 113,
   "metadata": {},
   "outputs": [
    {
     "name": "stdout",
     "output_type": "stream",
     "text": [
      "최종결과 :  ['배', '딸기', '포도']\n"
     ]
    }
   ],
   "source": [
    "list_b = ['사과', '배', '사과', '딸기', '사과', '포도']\n",
    "while '사과' in list_b:\n",
    "        list_b.remove('사과')\n",
    "print(\"최종결과 : \", list_b)"
   ]
  },
  {
   "cell_type": "code",
   "execution_count": 121,
   "metadata": {},
   "outputs": [
    {
     "name": "stdout",
     "output_type": "stream",
     "text": [
      "- 100 이상의 수: 273\n",
      "- 100 이상의 수: 103\n",
      "- 100 이상의 수: 800\n"
     ]
    }
   ],
   "source": [
    "numbers = [273, 103, 5, 32, 65, 9, 72, 800, 99]\n",
    "for number in numbers:\n",
    "    if number >= 100 :\n",
    "        print(\"- 100 이상의 수:\", number)"
   ]
  },
  {
   "cell_type": "code",
   "execution_count": 6,
   "metadata": {},
   "outputs": [
    {
     "data": {
      "text/plain": [
       "['122', ' 1234', '13']"
      ]
     },
     "execution_count": 6,
     "metadata": {},
     "output_type": "execute_result"
    }
   ],
   "source": [
    "nums = input(\"정수 실수 입력\")\n",
    "nums = nums.split(',')\n",
    "nums"
   ]
  },
  {
   "cell_type": "code",
   "execution_count": null,
   "metadata": {},
   "outputs": [
    {
     "name": "stdout",
     "output_type": "stream",
     "text": [
      "최종 결과 : ['100.2', ' 1000.4', ' 213132']\n"
     ]
    }
   ],
   "source": [
    "a = []\n",
    "for b in nums:\n",
    "    if eval(b) >= 100:``\n",
    "        a.append(b)\n",
    "print(f\"최종 결과 : {a}\")"
   ]
  },
  {
   "cell_type": "markdown",
   "metadata": {},
   "source": [
    "# 딕셔너리"
   ]
  },
  {
   "cell_type": "markdown",
   "metadata": {},
   "source": [
    "- aaa = { } < - 딕셔너리 선언 \n",
    "- bbb = {키1 : 값1, 키2 : 값2, 키3 : 값3} <- 키는 고유한 값이어야함"
   ]
  },
  {
   "cell_type": "code",
   "execution_count": 2,
   "metadata": {},
   "outputs": [
    {
     "data": {
      "text/plain": [
       "dict"
      ]
     },
     "execution_count": 2,
     "metadata": {},
     "output_type": "execute_result"
    }
   ],
   "source": [
    "aaa = {}\n",
    "type(aaa)"
   ]
  },
  {
   "cell_type": "code",
   "execution_count": 48,
   "metadata": {},
   "outputs": [
    {
     "data": {
      "text/plain": [
       "{'이름': '이정준',\n",
       " '나이': '25세',\n",
       " '주소': '서울',\n",
       " '회원': True,\n",
       " '종류': ['비자', '교통'],\n",
       " '가족': {'여친': '지렴', '누나': '주비'}}"
      ]
     },
     "execution_count": 48,
     "metadata": {},
     "output_type": "execute_result"
    }
   ],
   "source": [
    "bbb = {'이름':'이정준',\n",
    "       '나이':'25세','주소':'서울',\n",
    "       '회원':True,'종류':['비자','교통'],\n",
    "       '가족':{'여친':'지렴','누나':'주비'}}\n",
    "bbb"
   ]
  },
  {
   "cell_type": "code",
   "execution_count": 24,
   "metadata": {},
   "outputs": [
    {
     "data": {
      "text/plain": [
       "'교통'"
      ]
     },
     "execution_count": 24,
     "metadata": {},
     "output_type": "execute_result"
    }
   ],
   "source": [
    "# 딕셔너리 내의 값의 컨테이너 자료형의 특정 값을 참조\n",
    "## 값이 리스트인 경우\n",
    "bbb[\"종류\"][1]"
   ]
  },
  {
   "cell_type": "code",
   "execution_count": 32,
   "metadata": {},
   "outputs": [
    {
     "data": {
      "text/plain": [
       "'지렴'"
      ]
     },
     "execution_count": 32,
     "metadata": {},
     "output_type": "execute_result"
    }
   ],
   "source": [
    "## 값이 딕셔너리인 경우\n",
    "bbb[\"가족\"]['여친']"
   ]
  },
  {
   "cell_type": "code",
   "execution_count": 33,
   "metadata": {},
   "outputs": [
    {
     "ename": "KeyError",
     "evalue": "'가족1'",
     "output_type": "error",
     "traceback": [
      "\u001b[1;31m---------------------------------------------------------------------------\u001b[0m",
      "\u001b[1;31mKeyError\u001b[0m                                  Traceback (most recent call last)",
      "Cell \u001b[1;32mIn[33], line 2\u001b[0m\n\u001b[0;32m      1\u001b[0m \u001b[38;5;66;03m# 키오류\u001b[39;00m\n\u001b[1;32m----> 2\u001b[0m \u001b[43mbbb\u001b[49m\u001b[43m[\u001b[49m\u001b[38;5;124;43m'\u001b[39;49m\u001b[38;5;124;43m가족1\u001b[39;49m\u001b[38;5;124;43m'\u001b[39;49m\u001b[43m]\u001b[49m[\u001b[38;5;124m'\u001b[39m\u001b[38;5;124m남편\u001b[39m\u001b[38;5;124m'\u001b[39m]\n",
      "\u001b[1;31mKeyError\u001b[0m: '가족1'"
     ]
    }
   ],
   "source": [
    "# 키오류\n",
    "bbb['가족1']['남편']"
   ]
  },
  {
   "cell_type": "code",
   "execution_count": 47,
   "metadata": {},
   "outputs": [],
   "source": [
    "# 문자는 반드시 ''로 감싸야함..\n",
    "name = \"이름\"\n",
    "bbb = {name:'이정준',\n",
    "       '나이':'25세'}"
   ]
  },
  {
   "cell_type": "code",
   "execution_count": 40,
   "metadata": {},
   "outputs": [],
   "source": [
    "del name"
   ]
  },
  {
   "cell_type": "code",
   "execution_count": 27,
   "metadata": {},
   "outputs": [
    {
     "data": {
      "text/plain": [
       "'이정준'"
      ]
     },
     "execution_count": 27,
     "metadata": {},
     "output_type": "execute_result"
    }
   ],
   "source": [
    "# 딕셔너리 값 참조\n",
    "bbb[\"이름\"]"
   ]
  },
  {
   "cell_type": "code",
   "execution_count": 12,
   "metadata": {},
   "outputs": [
    {
     "data": {
      "text/plain": [
       "{'이름': '이정준', '나이': 27, '주소': '서울'}"
      ]
     },
     "execution_count": 12,
     "metadata": {},
     "output_type": "execute_result"
    }
   ],
   "source": [
    "bbb['나이'] = 27\n",
    "bbb"
   ]
  },
  {
   "cell_type": "code",
   "execution_count": 42,
   "metadata": {},
   "outputs": [
    {
     "data": {
      "text/plain": [
       "'happy cat'"
      ]
     },
     "execution_count": 42,
     "metadata": {},
     "output_type": "execute_result"
    }
   ],
   "source": [
    "bbb['별명']='happy cat'\n",
    "bbb['별명']"
   ]
  },
  {
   "cell_type": "code",
   "execution_count": 50,
   "metadata": {},
   "outputs": [
    {
     "ename": "KeyError",
     "evalue": "'나이'",
     "output_type": "error",
     "traceback": [
      "\u001b[1;31m---------------------------------------------------------------------------\u001b[0m",
      "\u001b[1;31mKeyError\u001b[0m                                  Traceback (most recent call last)",
      "Cell \u001b[1;32mIn[50], line 1\u001b[0m\n\u001b[1;32m----> 1\u001b[0m \u001b[38;5;28;01mdel\u001b[39;00m \u001b[43mbbb\u001b[49m\u001b[43m[\u001b[49m\u001b[38;5;124;43m'\u001b[39;49m\u001b[38;5;124;43m나이\u001b[39;49m\u001b[38;5;124;43m'\u001b[39;49m\u001b[43m]\u001b[49m\n\u001b[0;32m      2\u001b[0m bbb\n",
      "\u001b[1;31mKeyError\u001b[0m: '나이'"
     ]
    }
   ],
   "source": [
    "del bbb['나이']\n",
    "bbb"
   ]
  },
  {
   "cell_type": "code",
   "execution_count": 58,
   "metadata": {},
   "outputs": [
    {
     "name": "stdout",
     "output_type": "stream",
     "text": [
      "값 : None\n",
      "존재하지 않는 키에 접근\n"
     ]
    }
   ],
   "source": [
    "dictionary = {'name':'바싹 마른 망고', 'type':'설탕무침',\n",
    "              'ingredient':['망고','설탕','약간의 애정'], 'origin':'서귀포'}\n",
    "value = dictionary.get('존재하지 않는 키')\n",
    "print('값 :', value)\n",
    "\n",
    "if value is None:\n",
    "    print('존재하지 않는 키에 접근')"
   ]
  },
  {
   "cell_type": "code",
   "execution_count": 64,
   "metadata": {},
   "outputs": [
    {
     "name": "stdout",
     "output_type": "stream",
     "text": [
      "존재하지 않는 키입니다.\n"
     ]
    }
   ],
   "source": [
    "dictionary = {'name':'바싹 마른 망고', 'type':'설탕무침',\n",
    "              'ingredient':['망고','설탕','약간의 애정'], 'origin':'서귀포'}\n",
    "\n",
    "key = input('접근하고자 하는 키:')\n",
    "if key in dictionary:\n",
    "    print(dictionary[key])\n",
    "else:\n",
    "    print('존재하지 않는 키입니다.')"
   ]
  },
  {
   "cell_type": "code",
   "execution_count": 66,
   "metadata": {},
   "outputs": [
    {
     "name": "stdout",
     "output_type": "stream",
     "text": [
      "name : 바싹 마른 망고\n",
      "type : 설탕무침\n",
      "ingredient : ['망고', '설탕', '약간의 애정']\n",
      "origin : 서귀포\n"
     ]
    }
   ],
   "source": [
    "dictionary = {'name':'바싹 마른 망고', 'type':'설탕무침',\n",
    "              'ingredient':['망고','설탕','약간의 애정'], 'origin':'서귀포'}\n",
    "\n",
    "for key in dictionary:\n",
    "    print(key, \":\", dictionary[key])"
   ]
  },
  {
   "cell_type": "code",
   "execution_count": 69,
   "metadata": {},
   "outputs": [
    {
     "data": {
      "text/plain": [
       "NoneType"
      ]
     },
     "execution_count": 69,
     "metadata": {},
     "output_type": "execute_result"
    }
   ],
   "source": [
    "val = dictionary.get('이름')\n",
    "type(val) \n",
    "#데이터 구조에 따라 추가, 수정, 삭제 방법 다르기 때문에.. 자료의 타입 확인하는게 굉장히 중요\n",
    "# nontype은 자료가 없는것"
   ]
  },
  {
   "cell_type": "code",
   "execution_count": 71,
   "metadata": {},
   "outputs": [
    {
     "name": "stdout",
     "output_type": "stream",
     "text": [
      "키가 존재하지 않음\n"
     ]
    }
   ],
   "source": [
    "if value is None:\n",
    "    print('키가 존재하지 않음')\n",
    "else:\n",
    "    print(value)"
   ]
  },
  {
   "cell_type": "markdown",
   "metadata": {},
   "source": [
    "# 확인문제"
   ]
  },
  {
   "cell_type": "code",
   "execution_count": 74,
   "metadata": {},
   "outputs": [
    {
     "data": {
      "text/plain": [
       "{'name': '구름'}"
      ]
     },
     "execution_count": 74,
     "metadata": {},
     "output_type": "execute_result"
    }
   ],
   "source": [
    "dict_a = {'name':'구름'}\n",
    "dict_a"
   ]
  },
  {
   "cell_type": "code",
   "execution_count": 76,
   "metadata": {},
   "outputs": [
    {
     "data": {
      "text/plain": [
       "{}"
      ]
     },
     "execution_count": 76,
     "metadata": {},
     "output_type": "execute_result"
    }
   ],
   "source": [
    "dict_a = {}\n",
    "dict_a\n"
   ]
  },
  {
   "cell_type": "code",
   "execution_count": 80,
   "metadata": {},
   "outputs": [
    {
     "name": "stdout",
     "output_type": "stream",
     "text": [
      "{1: 4, 2: 3, 3: 3, 4: 4, 5: 3, 6: 3, 7: 4, 8: 2, 9: 2}\n"
     ]
    }
   ],
   "source": [
    "numbers = [1, 2, 3, 4, 5, 6, 7, 8, 9, 1, 2, 4, 6, 7, 8, 3, 5, 4, 1, 2, 4, 3, 6, 9, 7, 5, 1, 7]\n",
    "counter = {}\n",
    "for number in numbers: \n",
    "    if number in counter:\n",
    "        counter[number] += 1\n",
    "    else: counter[number] = 1\n",
    "print(counter)\n"
   ]
  },
  {
   "cell_type": "code",
   "execution_count": null,
   "metadata": {},
   "outputs": [],
   "source": [
    "# 알고리즘 분석\n",
    "# print (counter)\n",
    "# [1:갯수, 2:갯수, 3:갯수 ~]\n",
    "# 반복문 : numbers 의 요소를 하나씩 체크한다\n",
    "# 넘어온 숫자가 키로 사용할지 판단,\n",
    "    # 키라면 딕셔너리의 키로 사용, 갯수 카운트\n",
    "# 키로 사용안한다면 \n",
    "    # 갯수만 카운트"
   ]
  },
  {
   "cell_type": "code",
   "execution_count": 90,
   "metadata": {},
   "outputs": [
    {
     "name": "stdout",
     "output_type": "stream",
     "text": [
      "{1: 2, 2: 2, 4: 3, 5: 2, 6: 2, 7: 2, 8: 2, 3: 1, 9: 1}\n"
     ]
    }
   ],
   "source": [
    "numbers = [1, 2, 4, 5, 6, 7, 8, 4, 3, 5, 7, 9, 1, 4, 6, 8, 2]\n",
    "counter = {}\n",
    "for num in numbers:\n",
    "# 넘어온 숫자가 키로 사용할지 판단\n",
    "# counter에 키로 등록이 되어 있을 경우\n",
    "    if num not in counter:\n",
    "        counter[num] = 1\n",
    "        # print(counter)\n",
    "    else: # 키로 사용안한다면\n",
    "        counter[num] = counter[num] + 1\n",
    "print(counter)"
   ]
  },
  {
   "cell_type": "code",
   "execution_count": 111,
   "metadata": {},
   "outputs": [
    {
     "name": "stdout",
     "output_type": "stream",
     "text": [
      "\"name\":\"기사\",\n",
      "\"level\":\"12\",\n",
      "\"sword\":\"불꽃의 검\",\n",
      "\"armor\":\"풀플레이트\",\n",
      "\"skill1\":\"베기\",\n",
      "\"skill2\":\"세게 베기\",\n",
      "\"skill3\":\"아주 세게 베기\",\n"
     ]
    }
   ],
   "source": [
    "character = {'name':'기사', 'level':12, \n",
    "             'items':{'sword':'불꽃의 검','armor':'풀플레이트'},\n",
    "             'skill':['베기','세게 베기','아주 세게 베기']}\n",
    "\n",
    "result = {}\n",
    "\n",
    "for key in character:\n",
    "    if key == 'items':\n",
    "        result['sword'] = character[key]['sword']\n",
    "        result['armor'] = character[key]['armor']\n",
    "    elif key == 'skill':\n",
    "        result['skill1'] = character[key][0]\n",
    "        result['skill2'] = character[key][1]\n",
    "        result['skill3'] = character[key][2]\n",
    "    else:\n",
    "        result[key] = character[key]\n",
    "\n",
    "for key, value in result.items():\n",
    "    print(f'\"{key}\":\"{value}\",')"
   ]
  },
  {
   "cell_type": "code",
   "execution_count": 145,
   "metadata": {},
   "outputs": [
    {
     "name": "stdout",
     "output_type": "stream",
     "text": [
      "name : 기사\n",
      "level : 12\n",
      "sword : 불꽃의 검\n",
      "armor : 풀플레이트\n",
      "skill 1 : 베기\n",
      "skill 2 : 세게 베기\n",
      "skill 3 : 아주 세게 베기\n"
     ]
    }
   ],
   "source": [
    "character = {'name': '기사', 'level': 12,\n",
    "             'items': {'sword': '불꽃의 검', 'armor': '풀플레이트'},\n",
    "             'skill': ['베기', '세게 베기', '아주 세게 베기']}\n",
    "\n",
    "for key in character:\n",
    "    if type(character[key]) is str:\n",
    "        print(f\"{key} : {character[key]}\")\n",
    "    elif type(character[key]) is int:\n",
    "        print(f\"{key} : {character[key]}\")\n",
    "    elif type(character[key]) is dict:\n",
    "        for sub_key in character[key]:\n",
    "            print(f\"{sub_key} : {character[key][sub_key]}\")\n",
    "    # elif type(character[key]) is list:\n",
    "    #     for sub_key in character[key]:\n",
    "    #         print(f\"{key} : {sub_key}\") / 아래 코드는 간소화 한것..\n",
    "    if type(character[key]) is list:\n",
    "        for idx, val in enumerate(character[key]):\n",
    "            print(f\"{key} {idx+1} : {val}\") "
   ]
  },
  {
   "cell_type": "code",
   "execution_count": 142,
   "metadata": {},
   "outputs": [
    {
     "name": "stdout",
     "output_type": "stream",
     "text": [
      "skill : 베기\n",
      "skill : 세게 베기\n",
      "skill : 아주 세게 베기\n"
     ]
    }
   ],
   "source": [
    "character = {'name': '기사', 'level': 12,\n",
    "             'items': {'sword': '불꽃의 검', 'armor': '풀플레이트'},\n",
    "             'skill': ['베기', '세게 베기', '아주 세게 베기']}\n",
    "if type(character[key]) is dict:\n",
    "    for sub_key in character[key]:\n",
    "        print(f\"{sub_key} : {character[key][sub_key]}\")\n",
    "elif type(character[key]) is list:\n",
    "     for val in character[key]:\n",
    "          print(f\"{key} : {val}\") \n",
    "else : \n",
    "    print(f\"{key} : {character[key]}\")"
   ]
  },
  {
   "cell_type": "code",
   "execution_count": 93,
   "metadata": {},
   "outputs": [
    {
     "data": {
      "text/plain": [
       "True"
      ]
     },
     "execution_count": 93,
     "metadata": {},
     "output_type": "execute_result"
    }
   ],
   "source": [
    "type('') is str"
   ]
  },
  {
   "cell_type": "code",
   "execution_count": 95,
   "metadata": {},
   "outputs": [
    {
     "data": {
      "text/plain": [
       "True"
      ]
     },
     "execution_count": 95,
     "metadata": {},
     "output_type": "execute_result"
    }
   ],
   "source": [
    "type([]) is list"
   ]
  },
  {
   "cell_type": "code",
   "execution_count": 99,
   "metadata": {},
   "outputs": [
    {
     "data": {
      "text/plain": [
       "True"
      ]
     },
     "execution_count": 99,
     "metadata": {},
     "output_type": "execute_result"
    }
   ],
   "source": [
    "aaa = {'키':'값'}\n",
    "type(aaa) is dict"
   ]
  },
  {
   "cell_type": "markdown",
   "metadata": {},
   "source": [
    "# range()"
   ]
  },
  {
   "cell_type": "code",
   "execution_count": 154,
   "metadata": {},
   "outputs": [
    {
     "name": "stdout",
     "output_type": "stream",
     "text": [
      "숫자 출력 : 4\n",
      "숫자 출력 : 3\n",
      "숫자 출력 : 2\n",
      "숫자 출력 : 1\n",
      "숫자 출력 : 0\n"
     ]
    }
   ],
   "source": [
    "for i in range(4, 0-1, -1):\n",
    "    print(f\"숫자 출력 : {i}\")"
   ]
  },
  {
   "cell_type": "code",
   "execution_count": 150,
   "metadata": {},
   "outputs": [
    {
     "name": "stdout",
     "output_type": "stream",
     "text": [
      "숫자 출력 : 4\n",
      "숫자 출력 : 3\n",
      "숫자 출력 : 2\n",
      "숫자 출력 : 1\n",
      "숫자 출력 : 0\n"
     ]
    }
   ],
   "source": [
    "for i in reversed(range(5)):\n",
    "    print(f\"숫자 출력 : {i}\")"
   ]
  },
  {
   "cell_type": "markdown",
   "metadata": {},
   "source": [
    "# 반복문 - while"
   ]
  },
  {
   "cell_type": "code",
   "execution_count": 158,
   "metadata": {},
   "outputs": [
    {
     "name": "stdout",
     "output_type": "stream",
     "text": [
      "."
     ]
    },
    {
     "ename": "KeyboardInterrupt",
     "evalue": "Interrupted by user",
     "output_type": "error",
     "traceback": [
      "\u001b[1;31m---------------------------------------------------------------------------\u001b[0m",
      "\u001b[1;31mKeyboardInterrupt\u001b[0m                         Traceback (most recent call last)",
      "Cell \u001b[1;32mIn[158], line 3\u001b[0m\n\u001b[0;32m      1\u001b[0m \u001b[38;5;28;01mwhile\u001b[39;00m \u001b[38;5;28;01mTrue\u001b[39;00m: \n\u001b[0;32m      2\u001b[0m     \u001b[38;5;28mprint\u001b[39m(\u001b[38;5;124m'\u001b[39m\u001b[38;5;124m.\u001b[39m\u001b[38;5;124m'\u001b[39m, end\u001b[38;5;241m=\u001b[39m\u001b[38;5;124m\"\u001b[39m\u001b[38;5;124m\"\u001b[39m)\n\u001b[1;32m----> 3\u001b[0m     quit \u001b[38;5;241m=\u001b[39m \u001b[38;5;28;43minput\u001b[39;49m\u001b[43m(\u001b[49m\u001b[43m)\u001b[49m\n\u001b[0;32m      4\u001b[0m     \u001b[38;5;28;01mif\u001b[39;00m quit \u001b[38;5;241m==\u001b[39m \u001b[38;5;124m\"\u001b[39m\u001b[38;5;124mq\u001b[39m\u001b[38;5;124m\"\u001b[39m:\n\u001b[0;32m      5\u001b[0m         \u001b[38;5;28;01mbreak\u001b[39;00m\n",
      "File \u001b[1;32m~\\AppData\\Roaming\\Python\\Python312\\site-packages\\ipykernel\\kernelbase.py:1282\u001b[0m, in \u001b[0;36mKernel.raw_input\u001b[1;34m(self, prompt)\u001b[0m\n\u001b[0;32m   1280\u001b[0m     msg \u001b[38;5;241m=\u001b[39m \u001b[38;5;124m\"\u001b[39m\u001b[38;5;124mraw_input was called, but this frontend does not support input requests.\u001b[39m\u001b[38;5;124m\"\u001b[39m\n\u001b[0;32m   1281\u001b[0m     \u001b[38;5;28;01mraise\u001b[39;00m StdinNotImplementedError(msg)\n\u001b[1;32m-> 1282\u001b[0m \u001b[38;5;28;01mreturn\u001b[39;00m \u001b[38;5;28;43mself\u001b[39;49m\u001b[38;5;241;43m.\u001b[39;49m\u001b[43m_input_request\u001b[49m\u001b[43m(\u001b[49m\n\u001b[0;32m   1283\u001b[0m \u001b[43m    \u001b[49m\u001b[38;5;28;43mstr\u001b[39;49m\u001b[43m(\u001b[49m\u001b[43mprompt\u001b[49m\u001b[43m)\u001b[49m\u001b[43m,\u001b[49m\n\u001b[0;32m   1284\u001b[0m \u001b[43m    \u001b[49m\u001b[38;5;28;43mself\u001b[39;49m\u001b[38;5;241;43m.\u001b[39;49m\u001b[43m_parent_ident\u001b[49m\u001b[43m[\u001b[49m\u001b[38;5;124;43m\"\u001b[39;49m\u001b[38;5;124;43mshell\u001b[39;49m\u001b[38;5;124;43m\"\u001b[39;49m\u001b[43m]\u001b[49m\u001b[43m,\u001b[49m\n\u001b[0;32m   1285\u001b[0m \u001b[43m    \u001b[49m\u001b[38;5;28;43mself\u001b[39;49m\u001b[38;5;241;43m.\u001b[39;49m\u001b[43mget_parent\u001b[49m\u001b[43m(\u001b[49m\u001b[38;5;124;43m\"\u001b[39;49m\u001b[38;5;124;43mshell\u001b[39;49m\u001b[38;5;124;43m\"\u001b[39;49m\u001b[43m)\u001b[49m\u001b[43m,\u001b[49m\n\u001b[0;32m   1286\u001b[0m \u001b[43m    \u001b[49m\u001b[43mpassword\u001b[49m\u001b[38;5;241;43m=\u001b[39;49m\u001b[38;5;28;43;01mFalse\u001b[39;49;00m\u001b[43m,\u001b[49m\n\u001b[0;32m   1287\u001b[0m \u001b[43m\u001b[49m\u001b[43m)\u001b[49m\n",
      "File \u001b[1;32m~\\AppData\\Roaming\\Python\\Python312\\site-packages\\ipykernel\\kernelbase.py:1325\u001b[0m, in \u001b[0;36mKernel._input_request\u001b[1;34m(self, prompt, ident, parent, password)\u001b[0m\n\u001b[0;32m   1322\u001b[0m \u001b[38;5;28;01mexcept\u001b[39;00m \u001b[38;5;167;01mKeyboardInterrupt\u001b[39;00m:\n\u001b[0;32m   1323\u001b[0m     \u001b[38;5;66;03m# re-raise KeyboardInterrupt, to truncate traceback\u001b[39;00m\n\u001b[0;32m   1324\u001b[0m     msg \u001b[38;5;241m=\u001b[39m \u001b[38;5;124m\"\u001b[39m\u001b[38;5;124mInterrupted by user\u001b[39m\u001b[38;5;124m\"\u001b[39m\n\u001b[1;32m-> 1325\u001b[0m     \u001b[38;5;28;01mraise\u001b[39;00m \u001b[38;5;167;01mKeyboardInterrupt\u001b[39;00m(msg) \u001b[38;5;28;01mfrom\u001b[39;00m\u001b[38;5;250m \u001b[39m\u001b[38;5;28;01mNone\u001b[39;00m\n\u001b[0;32m   1326\u001b[0m \u001b[38;5;28;01mexcept\u001b[39;00m \u001b[38;5;167;01mException\u001b[39;00m:\n\u001b[0;32m   1327\u001b[0m     \u001b[38;5;28mself\u001b[39m\u001b[38;5;241m.\u001b[39mlog\u001b[38;5;241m.\u001b[39mwarning(\u001b[38;5;124m\"\u001b[39m\u001b[38;5;124mInvalid Message:\u001b[39m\u001b[38;5;124m\"\u001b[39m, exc_info\u001b[38;5;241m=\u001b[39m\u001b[38;5;28;01mTrue\u001b[39;00m)\n",
      "\u001b[1;31mKeyboardInterrupt\u001b[0m: Interrupted by user"
     ]
    }
   ],
   "source": [
    "while True: \n",
    "    print('.', end=\"\")\n",
    "    quit = input()\n",
    "    if quit == \"q\":\n",
    "        break"
   ]
  },
  {
   "cell_type": "code",
   "execution_count": 162,
   "metadata": {},
   "outputs": [
    {
     "name": "stdout",
     "output_type": "stream",
     "text": [
      "0번째 반복\n",
      "1번째 반복\n",
      "2번째 반복\n",
      "3번째 반복\n",
      "4번째 반복\n",
      "5번째 반복\n",
      "6번째 반복\n",
      "7번째 반복\n",
      "8번째 반복\n",
      "9번째 반복\n",
      "종료\n"
     ]
    }
   ],
   "source": [
    "i = 0\n",
    "while i<10:\n",
    "    print(f'{i}번째 반복')\n",
    "    i = i + 1  # i += 1 과 같음\n",
    "print('종료')"
   ]
  },
  {
   "cell_type": "code",
   "execution_count": 165,
   "metadata": {},
   "outputs": [
    {
     "data": {
      "text/plain": [
       "[1, 1, 3, 3, 3, 4]"
      ]
     },
     "execution_count": 165,
     "metadata": {},
     "output_type": "execute_result"
    }
   ],
   "source": [
    "nums = [1,2,1,2,2,2,2,3,3,3,4]\n",
    "value = 2\n",
    "while value in nums:\n",
    "    nums.remove(value)\n",
    "nums"
   ]
  },
  {
   "cell_type": "code",
   "execution_count": null,
   "metadata": {},
   "outputs": [
    {
     "name": "stdout",
     "output_type": "stream",
     "text": [
      "5초동안 65025415 반복해씀.\n"
     ]
    }
   ],
   "source": [
    "import time \n",
    "\n",
    "num = 0\n",
    "tt = time.time()+5\n",
    "while time.time() < tt:\n",
    "    num = num + 1\n",
    "\n",
    "print(f'5초동안 {num} 반복해씀.')"
   ]
  },
  {
   "cell_type": "code",
   "execution_count": 175,
   "metadata": {},
   "outputs": [
    {
     "name": "stdout",
     "output_type": "stream",
     "text": [
      "0번째 반복문입니다.\n",
      "1번째 반복문입니다.\n",
      "2번째 반복문입니다.\n",
      "3번째 반복문입니다.\n",
      "반복을 종료합니다\n"
     ]
    }
   ],
   "source": [
    "i = 0\n",
    "while True:\n",
    "    print(\"{}번째 반복문입니다.\".format(i))\n",
    "    i = i + 1\n",
    "    input_text = input(\"종료하시렵니까? (y)\")\n",
    "    if input_text in ['y','Y']:\n",
    "        print('반복을 종료합니다')\n",
    "        break"
   ]
  },
  {
   "cell_type": "code",
   "execution_count": null,
   "metadata": {},
   "outputs": [
    {
     "name": "stdout",
     "output_type": "stream",
     "text": [
      "3\n",
      "4\n",
      "5\n"
     ]
    }
   ],
   "source": [
    "ns = [1, 2, 3, 4, 5]\n",
    "for n in ns:\n",
    "    if n < 3:  # 3보다 작은수를 생략하고 다음 반복으로 넘어가라\n",
    "        continue\n",
    "    print(n)"
   ]
  },
  {
   "cell_type": "code",
   "execution_count": 192,
   "metadata": {},
   "outputs": [
    {
     "data": {
      "text/plain": [
       "[3, 6, 9]"
      ]
     },
     "execution_count": 192,
     "metadata": {},
     "output_type": "execute_result"
    }
   ],
   "source": [
    "c = range(3, 10, 3)\n",
    "list(c)"
   ]
  },
  {
   "cell_type": "code",
   "execution_count": null,
   "metadata": {},
   "outputs": [],
   "source": [
    "# 필요한 변수\n",
    "# 1씩 증가를 위한 변수\n",
    "# 1씩 더해서 저장하는 변수\n",
    "# 알고리즘 분석\n",
    "# 1씩 계속 증가 < 반복문\n",
    "# 종료 조건 : 결과 >= 10000\n",
    "# 출력결과 : 10000을 넘을 때의 숫자와 결과 프린트"
   ]
  },
  {
   "cell_type": "code",
   "execution_count": 210,
   "metadata": {},
   "outputs": [
    {
     "name": "stdout",
     "output_type": "stream",
     "text": [
      "i: 142 , result: 10011\n"
     ]
    }
   ],
   "source": [
    "limit = 10000\n",
    "\n",
    "i = 1 # 숫자 초기화\n",
    "result = 0\n",
    "while result < limit:\n",
    "    result = result + i\n",
    "    i = i + 1\n",
    "print(f'i: {i} , result: {result}')\n",
    "\n",
    "# print(\"{}를 더할때 {}을 넣으며 그때의 값은 {}입니다.\"\n",
    "#       .format(i, limit, sum_value))"
   ]
  },
  {
   "cell_type": "code",
   "execution_count": 209,
   "metadata": {},
   "outputs": [
    {
     "name": "stdout",
     "output_type": "stream",
     "text": [
      "i: 141, result : 10011\n"
     ]
    }
   ],
   "source": [
    "i = 1\n",
    "limit = 10000\n",
    "result = 0\n",
    "while True:\n",
    "    result = result + i\n",
    "    if result >= limit:\n",
    "        print(f'i: {i}, result : {result}')\n",
    "        break\n",
    "    i = i + 1"
   ]
  }
 ],
 "metadata": {
  "kernelspec": {
   "display_name": "Python 3",
   "language": "python",
   "name": "python3"
  },
  "language_info": {
   "codemirror_mode": {
    "name": "ipython",
    "version": 3
   },
   "file_extension": ".py",
   "mimetype": "text/x-python",
   "name": "python",
   "nbconvert_exporter": "python",
   "pygments_lexer": "ipython3",
   "version": "3.12.8"
  }
 },
 "nbformat": 4,
 "nbformat_minor": 2
}

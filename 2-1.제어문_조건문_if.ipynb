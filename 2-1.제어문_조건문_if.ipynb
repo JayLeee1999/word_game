{
 "cells": [
  {
   "cell_type": "markdown",
   "metadata": {},
   "source": [
    "# 조건문 if"
   ]
  },
  {
   "cell_type": "code",
   "execution_count": null,
   "metadata": {},
   "outputs": [],
   "source": [
    "# 사람들이 뭘 입력해야하는지 설명할 때 사용 \n",
    "# 출력이 안된다면 메모리에 쓴다는 것.. num 에 썼음\n",
    "\n",
    "num = input(\"정수 입력> \")  "
   ]
  },
  {
   "cell_type": "code",
   "execution_count": 4,
   "metadata": {},
   "outputs": [
    {
     "data": {
      "text/plain": [
       "'40'"
      ]
     },
     "execution_count": 4,
     "metadata": {},
     "output_type": "execute_result"
    }
   ],
   "source": [
    "num"
   ]
  },
  {
   "cell_type": "code",
   "execution_count": 1,
   "metadata": {},
   "outputs": [
    {
     "ename": "NameError",
     "evalue": "name 'num' is not defined",
     "output_type": "error",
     "traceback": [
      "\u001b[1;31m---------------------------------------------------------------------------\u001b[0m",
      "\u001b[1;31mNameError\u001b[0m                                 Traceback (most recent call last)",
      "Cell \u001b[1;32mIn[1], line 1\u001b[0m\n\u001b[1;32m----> 1\u001b[0m \u001b[38;5;28;01mif\u001b[39;00m \u001b[43mnum\u001b[49m \u001b[38;5;241m>\u001b[39m \u001b[38;5;241m0\u001b[39m:\n\u001b[0;32m      2\u001b[0m     \u001b[38;5;28mprint\u001b[39m(\u001b[38;5;124m\"\u001b[39m\u001b[38;5;124m양수\u001b[39m\u001b[38;5;124m\"\u001b[39m)\n",
      "\u001b[1;31mNameError\u001b[0m: name 'num' is not defined"
     ]
    }
   ],
   "source": [
    "if num > 0:\n",
    "    print(\"양수\")"
   ]
  },
  {
   "cell_type": "code",
   "execution_count": null,
   "metadata": {},
   "outputs": [],
   "source": [
    "# 위는 type 에러임, 40은 문자이기에 숫자 0과 비교 할 수 없음.."
   ]
  },
  {
   "cell_type": "code",
   "execution_count": 7,
   "metadata": {},
   "outputs": [],
   "source": [
    "num = int(num)"
   ]
  },
  {
   "cell_type": "code",
   "execution_count": 12,
   "metadata": {},
   "outputs": [
    {
     "name": "stdout",
     "output_type": "stream",
     "text": [
      "양수\n"
     ]
    }
   ],
   "source": [
    "num = '40'\n",
    "if int(num) > 0:\n",
    "    print(\"양수\")"
   ]
  },
  {
   "cell_type": "code",
   "execution_count": 17,
   "metadata": {},
   "outputs": [
    {
     "name": "stdout",
     "output_type": "stream",
     "text": [
      "음수\n"
     ]
    }
   ],
   "source": [
    "num = '-40'\n",
    "if int(num) > 0:\n",
    "    print(\"양수\")\n",
    "else:\n",
    "    print(\"음수\")"
   ]
  },
  {
   "cell_type": "markdown",
   "metadata": {},
   "source": [
    "## 제어문\n",
    "\n",
    "\"\"\"\n",
    "\n",
    "if 조건 :\n",
    "참일때 실행\n",
    "\n",
    "if 조건 : \n",
    "참일때 실행\n",
    "else :\n",
    "거짓일 때 실행\n",
    "\n",
    "if 조건1:\n",
    "조건1이 참일때 실행\n",
    "elif 조건2: \n",
    "조건2가 참일때\n",
    "elif 조건3:\n",
    "조건3이 참일때 실행\n",
    "else:\n",
    "위 조건이 모두 거짓일때 실행\n",
    "\n",
    "\n",
    "\"\"\""
   ]
  },
  {
   "cell_type": "code",
   "execution_count": 7,
   "metadata": {},
   "outputs": [],
   "source": [
    "# 내장 라이브러리를 메모리에 업로딩\n",
    "import datetime"
   ]
  },
  {
   "cell_type": "code",
   "execution_count": 10,
   "metadata": {},
   "outputs": [
    {
     "data": {
      "text/plain": [
       "datetime.datetime(2025, 3, 3, 16, 1, 18, 533576)"
      ]
     },
     "execution_count": 10,
     "metadata": {},
     "output_type": "execute_result"
    }
   ],
   "source": [
    "now_date = datetime.datetime.now()\n",
    "now_date"
   ]
  },
  {
   "cell_type": "code",
   "execution_count": 11,
   "metadata": {},
   "outputs": [],
   "source": [
    "date = datetime.datetime.now()"
   ]
  },
  {
   "cell_type": "code",
   "execution_count": 14,
   "metadata": {},
   "outputs": [
    {
     "data": {
      "text/plain": [
       "3"
      ]
     },
     "execution_count": 14,
     "metadata": {},
     "output_type": "execute_result"
    }
   ],
   "source": [
    "now_date.month"
   ]
  },
  {
   "cell_type": "code",
   "execution_count": 28,
   "metadata": {},
   "outputs": [
    {
     "name": "stdout",
     "output_type": "stream",
     "text": [
      "2025년 2월 26일 9시 50분 26초\n"
     ]
    }
   ],
   "source": [
    "print(f\"{now_date.year}년 {now_date.month}월 {now_date.day}일 {now_date.hour}시 {now_date.minute}분 {now_date.second}초\")"
   ]
  },
  {
   "cell_type": "code",
   "execution_count": 16,
   "metadata": {},
   "outputs": [
    {
     "name": "stdout",
     "output_type": "stream",
     "text": [
      "현재의 계절을 구해봅시다.\n",
      "~~~~~~~~~~~~~~~~~~~~~~~~~~~~~~\n",
      "이번달은 3월로 봄 입니다.\n"
     ]
    }
   ],
   "source": [
    "print(\"현재의 계절을 구해봅시다.\")\n",
    "print(\"~\"*30)\n",
    "import datetime\n",
    "a = datetime.datetime.now()\n",
    "if 3 <= a.month <=5 :\n",
    "    print(f\"이번달은 {a.month}월로 봄 입니다.\")\n",
    "elif 6 <= a.month <= 8 :\n",
    "    print(f\"이번달은 {a.month}월로 여름 입니다.\")\n",
    "elif 9 <= a.month <= 11 :\n",
    "    print(f\"이번달은 {a.month}월로 가을 입니다.\")\n",
    "else :\n",
    "    print(f\"이번달은 {a.month}월로 겨울 입니다.\")\n",
    "    print('추워요?')\n"
   ]
  },
  {
   "cell_type": "code",
   "execution_count": 19,
   "metadata": {},
   "outputs": [
    {
     "name": "stdout",
     "output_type": "stream",
     "text": [
      "현재 시간은 16시로 오후입니다!\n"
     ]
    }
   ],
   "source": [
    "\n",
    "now = datetime.datetime.now()\n",
    "if now.hour > 12 :\n",
    "    print(\"현재 시간은 {}시로 오후입니다!\".format(now.hour))"
   ]
  },
  {
   "cell_type": "code",
   "execution_count": 55,
   "metadata": {},
   "outputs": [],
   "source": [
    "num = int(input(\"정수 입력~\"))\n"
   ]
  },
  {
   "cell_type": "code",
   "execution_count": 29,
   "metadata": {},
   "outputs": [
    {
     "name": "stdout",
     "output_type": "stream",
     "text": [
      "홀수\n"
     ]
    }
   ],
   "source": [
    "number = input('정수입력>')\n",
    "number = int(number)\n",
    "if number % 2 == 0:\n",
    "    print('짝수')\n",
    "if number % 2 == 1:\n",
    "    print('홀수')"
   ]
  },
  {
   "cell_type": "code",
   "execution_count": 56,
   "metadata": {},
   "outputs": [
    {
     "name": "stdout",
     "output_type": "stream",
     "text": [
      "짝수\n"
     ]
    }
   ],
   "source": [
    "if num % 2 == 0 :\n",
    "    print(\"짝수\")\n",
    "elif num % 2 == 1 :\n",
    "    print(\"홀수\")"
   ]
  },
  {
   "cell_type": "code",
   "execution_count": 20,
   "metadata": {},
   "outputs": [
    {
     "name": "stdout",
     "output_type": "stream",
     "text": [
      "ㅎㅇ\n"
     ]
    }
   ],
   "source": [
    "a = 2\n",
    "if a < 10 :\n",
    "    pass\n",
    "    # a가 10보다 작을때 할일\n",
    "else:\n",
    "    pass\n",
    "    # 조건이 f 일대 할일\n",
    "print(\"ㅎㅇ\")"
   ]
  },
  {
   "cell_type": "markdown",
   "metadata": {},
   "source": [
    "# 문제1"
   ]
  },
  {
   "cell_type": "code",
   "execution_count": 141,
   "metadata": {},
   "outputs": [
    {
     "name": "stdout",
     "output_type": "stream",
     "text": [
      "걸어 가라.\n"
     ]
    }
   ],
   "source": [
    "# 내가만든거~~~~~\n",
    "\n",
    "pocket = input(\"주머니에 있는 물건을 입력하세요\").lower()\n",
    "card = True\n",
    "\n",
    "if \"money\" in pocket :\n",
    "    print(\"주머니에 현금이 있으니 택시를 타고 가세요.\")\n",
    "elif \"card\" in pocket :\n",
    "    print(\"주머니에 현금은 없으나 카드가 있으니 택시를 타고 가세요.\")\n",
    "else:\n",
    "    print(\"걸어 가라.\")"
   ]
  },
  {
   "cell_type": "code",
   "execution_count": 30,
   "metadata": {},
   "outputs": [
    {
     "name": "stdout",
     "output_type": "stream",
     "text": [
      "택시\n"
     ]
    }
   ],
   "source": [
    "# 선생님과 함께,,\n",
    "pocket = \"mone, paper, mobilephone\"\n",
    "card = True # 카드의 상태를 나타냄\n",
    "\n",
    "if \"money\" in pocket:\n",
    "    print(\"택시\")\n",
    "if card == True: # 카드의 상태를 비교\n",
    "    print(\"택시\")\n",
    "if \"money\" not in pocket and card != True:\n",
    "    print(\"걸어간다.\")"
   ]
  },
  {
   "cell_type": "code",
   "execution_count": 137,
   "metadata": {},
   "outputs": [
    {
     "name": "stdout",
     "output_type": "stream",
     "text": [
      "택시\n"
     ]
    }
   ],
   "source": [
    "if \"money\" in pocket or card == True:\n",
    "    print(\"택시\")\n",
    "else:\n",
    "    print(\"걸어간다\")"
   ]
  },
  {
   "cell_type": "code",
   "execution_count": null,
   "metadata": {},
   "outputs": [
    {
     "ename": "IndentationError",
     "evalue": "expected an indented block after 'try' statement on line 9 (2333060768.py, line 10)",
     "output_type": "error",
     "traceback": [
      "\u001b[1;36m  Cell \u001b[1;32mIn[178], line 10\u001b[1;36m\u001b[0m\n\u001b[1;33m    money = int(input(\"돈을 넣어주세요~\"))\u001b[0m\n\u001b[1;37m    ^\u001b[0m\n\u001b[1;31mIndentationError\u001b[0m\u001b[1;31m:\u001b[0m expected an indented block after 'try' statement on line 9\n"
     ]
    }
   ],
   "source": [
    "# 내가 만든거~~~\n",
    "\n",
    "# 상품가격\n",
    "cola = 500\n",
    "cider = 600\n",
    "fanta = 700\n",
    "\n",
    "# 가격입력\n",
    "money = int(input(\"돈을 넣어주세요~\"))\n",
    "\n",
    "# 상품입력\n",
    "product = input(\"원하는 상품을 입력해주세요 (콜라,사이다,환타)\")\n",
    "\n",
    "# 상품 및 가격 계산\n",
    "if product == \"콜라\" :\n",
    "    if money >= cola :\n",
    "        change = money - cola\n",
    "        print(f\"콜라를 선택하셨습니다. 잔돈은 {change}원 입니다.\")\n",
    "    else:\n",
    "        print(\"잔돈이 부족합니다\")\n",
    "elif product == \"사이다\" :\n",
    "    if money >= cider :\n",
    "        change = money - cider\n",
    "        print(f\"사이다를 선택하셨습니다. 잔돈은 {change}원 입니다.\")\n",
    "    else :\n",
    "        print(\"잔돈이 부족합니다\")\n",
    "elif product == \"환타\" :\n",
    "    if money >= fanta :\n",
    "        change = money - fanta\n",
    "        print(f\"환타를 선택하셨습니다. 잔돈은 {change}원 입니다.\")\n",
    "    else :\n",
    "        print(\"잔돈이 부족합니다\")\n",
    "else:\n",
    "    print(\"유효하지 않은 상품입니다.\")\n"
   ]
  },
  {
   "cell_type": "code",
   "execution_count": null,
   "metadata": {},
   "outputs": [],
   "source": [
    "# 선생님과 함께~\n",
    "\n",
    "# m = 돈 입력 받기\n",
    "# m < 700:\n",
    "    # 돈이 부족합니다.\n",
    "# or\n",
    "     # b = input(\"음료 선택(숫자 입력): 1. 콜라, 2. 사이다, 3. 환타\")\n",
    "# b 가 콜라:\n",
    "    # 콜라를 골랐습니다. 잔돈은 000입니다.\n",
    "# b 가 사이다:\n",
    "    # 사이다를 골랐습니다. 잔돈은 000입니다.\n",
    "# b 가 환타:\n",
    "    # 환타를 골랐습니다. 잔돈은 000입니다.\n",
    "# else:\n",
    "    # 선택된게 없다."
   ]
  },
  {
   "cell_type": "code",
   "execution_count": 33,
   "metadata": {},
   "outputs": [
    {
     "name": "stdout",
     "output_type": "stream",
     "text": [
      "1000\n",
      "콜라를 골랐습니다. 잔돈은 500원 입니다.\n"
     ]
    }
   ],
   "source": [
    "\n",
    "m = int(input(\"돈을 입력하세요\"))\n",
    "if m < 700 :\n",
    "    print(\"잔돈이 부족하디\")\n",
    "else:\n",
    "    print(m)\n",
    "\n",
    "beverage = input(\"음료 선택(숫자 입력): 1.콜라, 2.사이다, 3.환타\")\n",
    "beverage = beverage.strip() # 입력값의 양쪽 공백을 제거\n",
    "if beverage == '1' :\n",
    "    print(f\"콜라를 골랐습니다. 잔돈은 {m-500}원 입니다.\")\n",
    "elif beverage == '2' :\n",
    "    print(f\"사이다를 골랐습니다. 잔돈은 {m-600}원 입니다.\")\n",
    "elif beverage == '3' :\n",
    "    print(f\"환타를 골랐습니다. 잔돈은 {m-700}원 입니다.\")\n",
    "else:\n",
    "    print(\"선택된게 없어~\")"
   ]
  }
 ],
 "metadata": {
  "kernelspec": {
   "display_name": "Python 3",
   "language": "python",
   "name": "python3"
  },
  "language_info": {
   "codemirror_mode": {
    "name": "ipython",
    "version": 3
   },
   "file_extension": ".py",
   "mimetype": "text/x-python",
   "name": "python",
   "nbconvert_exporter": "python",
   "pygments_lexer": "ipython3",
   "version": "3.12.8"
  }
 },
 "nbformat": 4,
 "nbformat_minor": 2
}

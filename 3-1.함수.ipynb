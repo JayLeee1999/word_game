{
 "cells": [
  {
   "cell_type": "markdown",
   "metadata": {},
   "source": [
    "# 함수"
   ]
  },
  {
   "cell_type": "code",
   "execution_count": 1,
   "metadata": {},
   "outputs": [
    {
     "name": "stdout",
     "output_type": "stream",
     "text": [
      "hello\n",
      "hello\n"
     ]
    }
   ],
   "source": [
    "def a():\n",
    "    print('hello')\n",
    "    print('hello')\n",
    "\n",
    "a()"
   ]
  },
  {
   "cell_type": "code",
   "execution_count": 10,
   "metadata": {},
   "outputs": [
    {
     "name": "stdout",
     "output_type": "stream",
     "text": [
      "\n"
     ]
    }
   ],
   "source": [
    "# doc_string 팝업방법 : ctrl + shift + spacebar \n",
    "print()"
   ]
  },
  {
   "cell_type": "code",
   "execution_count": null,
   "metadata": {},
   "outputs": [],
   "source": [
    "# 사용자 함수 정의부\n",
    "# def print_n_times(매개변수) , 매개변수(파라미터)\n",
    "def print_n_times(value, n):\n",
    "    for i in range(n):\n",
    "        # value 변수에 저장된 값을 프린트\n",
    "        print(value)"
   ]
  },
  {
   "cell_type": "code",
   "execution_count": null,
   "metadata": {},
   "outputs": [
    {
     "name": "stdout",
     "output_type": "stream",
     "text": [
      "hello\n",
      "hello\n",
      "hello\n"
     ]
    }
   ],
   "source": [
    "# 함수 호출부\n",
    "# print_n_times (전달인자) #전달인자(아규먼트)\n",
    "print_n_times(\"hello\", 3)"
   ]
  },
  {
   "cell_type": "code",
   "execution_count": 19,
   "metadata": {},
   "outputs": [
    {
     "name": "stdout",
     "output_type": "stream",
     "text": [
      "안녕\n",
      "안녕\n",
      "안녕\n"
     ]
    }
   ],
   "source": [
    "def print_n():\n",
    "    n=3\n",
    "    for i in range(3):\n",
    "        print(\"안녕\")\n",
    "print_n()"
   ]
  },
  {
   "cell_type": "markdown",
   "metadata": {},
   "source": [
    "# 가변 매개변수"
   ]
  },
  {
   "cell_type": "code",
   "execution_count": 46,
   "metadata": {},
   "outputs": [
    {
     "name": "stdout",
     "output_type": "stream",
     "text": [
      "ㅎㅇ\n",
      "hello\n",
      "\n",
      "ㅎㅇ\n",
      "hello\n",
      "\n"
     ]
    }
   ],
   "source": [
    "def a(n, *values):\n",
    "    # print(values)\n",
    "    # print(type(values))\n",
    "    for i in range(n):\n",
    "        for value in values:\n",
    "            print(value)\n",
    "        print()\n",
    "a(2, \"ㅎㅇ\", \"hello\")"
   ]
  },
  {
   "cell_type": "markdown",
   "metadata": {},
   "source": [
    "# 기본 매개변수 설정"
   ]
  },
  {
   "cell_type": "code",
   "execution_count": 48,
   "metadata": {},
   "outputs": [
    {
     "name": "stdout",
     "output_type": "stream",
     "text": [
      "안녕\n",
      "안녕\n",
      "안녕\n"
     ]
    }
   ],
   "source": [
    "def print_n(value, n=3): # n=3 < 매개변수 기본값\n",
    "    for i in range(n):\n",
    "        print(value)\n",
    "print_n(\"안녕\")"
   ]
  },
  {
   "cell_type": "code",
   "execution_count": 50,
   "metadata": {},
   "outputs": [
    {
     "name": "stdout",
     "output_type": "stream",
     "text": [
      "안녕\n",
      "안녕\n",
      "안녕\n",
      "안녕\n",
      "안녕\n"
     ]
    }
   ],
   "source": [
    "def print_n(value, n=3): # n=3 < 매개변수 기본값\n",
    "    for i in range(n):\n",
    "        print(value)\n",
    "    \n",
    "# 함수 호출부\n",
    "print_n(\"안녕\", 5)"
   ]
  },
  {
   "cell_type": "code",
   "execution_count": null,
   "metadata": {},
   "outputs": [
    {
     "name": "stdout",
     "output_type": "stream",
     "text": [
      "ㅎㅇ\n",
      "hello\n",
      "봉주르\n",
      "\n",
      "ㅎㅇ\n",
      "hello\n",
      "봉주르\n",
      "\n",
      "ㅎㅇ\n",
      "hello\n",
      "봉주르\n",
      "\n"
     ]
    },
    {
     "data": {
      "text/plain": [
       "('ㅎㅇ', 'hello', '봉주르')"
      ]
     },
     "execution_count": 95,
     "metadata": {},
     "output_type": "execute_result"
    }
   ],
   "source": [
    "def a(*values, n=3):\n",
    "    # print(values)\n",
    "    # print(type(values))\n",
    "    for i in range(n):\n",
    "        for value in values:\n",
    "            print(value)\n",
    "        print()\n",
    "    return values\n",
    "    print('end') # cpu가 영원히 실행할 수 없다\n",
    "a(\"ㅎㅇ\", \"hello\", '봉주르')"
   ]
  },
  {
   "cell_type": "code",
   "execution_count": 93,
   "metadata": {},
   "outputs": [
    {
     "name": "stdout",
     "output_type": "stream",
     "text": [
      "ㅎㅇ\n",
      "hello\n",
      "봉주르\n",
      "dd\n",
      "\n",
      "ㅎㅇ\n",
      "hello\n",
      "봉주르\n",
      "dd\n",
      "\n",
      "ㅎㅇ\n",
      "hello\n",
      "봉주르\n",
      "dd\n",
      "\n",
      "('ㅎㅇ', 'hello', '봉주르', 'dd')\n",
      "<class 'tuple'>\n"
     ]
    }
   ],
   "source": [
    "d = 'hello'\n",
    "value = a(\"ㅎㅇ\", \"hello\", '봉주르', 'dd')\n",
    "print(value)\n",
    "print(type(value))"
   ]
  },
  {
   "cell_type": "code",
   "execution_count": null,
   "metadata": {},
   "outputs": [
    {
     "name": "stdout",
     "output_type": "stream",
     "text": [
      "220\n"
     ]
    }
   ],
   "source": [
    "def test(a, b=10, c=100):\n",
    "    print(a + b + c)\n",
    "# test(10,20,30)\n",
    "# test(a=10, b=100, c=200)\n",
    "# test(c=10, a=100, b=200)\n",
    "# test(10, c=200)"
   ]
  },
  {
   "cell_type": "code",
   "execution_count": 98,
   "metadata": {},
   "outputs": [
    {
     "name": "stdout",
     "output_type": "stream",
     "text": [
      "10\n"
     ]
    }
   ],
   "source": [
    "def f(x):\n",
    "    return x\n",
    "print(f(10))"
   ]
  },
  {
   "cell_type": "code",
   "execution_count": null,
   "metadata": {},
   "outputs": [
    {
     "name": "stdout",
     "output_type": "stream",
     "text": [
      "21\n"
     ]
    }
   ],
   "source": [
    "def f(x):\n",
    "    return 2*x + 1  # return 뒤에는 = 쓰면 안됨\n",
    "print(f(10))"
   ]
  },
  {
   "cell_type": "code",
   "execution_count": 108,
   "metadata": {},
   "outputs": [
    {
     "name": "stdout",
     "output_type": "stream",
     "text": [
      "121\n"
     ]
    }
   ],
   "source": [
    "def f(x):\n",
    "    return x**2 + 2*x + 1\n",
    "print(f(10))"
   ]
  },
  {
   "cell_type": "code",
   "execution_count": null,
   "metadata": {},
   "outputs": [
    {
     "name": "stdout",
     "output_type": "stream",
     "text": [
      "3150\n"
     ]
    }
   ],
   "source": [
    "def mul(*values):\n",
    "    result =1\n",
    "    for i in values:\n",
    "        result = result *int(i)  \n",
    "# for 반복문안에서 반복해서 곱해줌.. 처음 result 값을 1로 설정하고 1*5 > 5*7.. 끝날때까지 곱해줌\n",
    "    return result\n",
    "# 함수가 끝날때 reult 를 결과값으로 반환\n",
    "print(mul(5, 7, 9, 10))"
   ]
  },
  {
   "cell_type": "code",
   "execution_count": 131,
   "metadata": {},
   "outputs": [
    {
     "name": "stdout",
     "output_type": "stream",
     "text": [
      "15는 3과 5의 공배수입니다.\n",
      "30는 3과 5의 공배수입니다.\n",
      "45는 3과 5의 공배수입니다.\n",
      "60는 3과 5의 공배수입니다.\n",
      "75는 3과 5의 공배수입니다.\n",
      "90는 3과 5의 공배수입니다.\n",
      "105는 3과 5의 공배수입니다.\n",
      "120는 3과 5의 공배수입니다.\n",
      "135는 3과 5의 공배수입니다.\n",
      "150는 3과 5의 공배수입니다.\n",
      "165는 3과 5의 공배수입니다.\n",
      "180는 3과 5의 공배수입니다.\n",
      "195는 3과 5의 공배수입니다.\n",
      "210는 3과 5의 공배수입니다.\n",
      "225는 3과 5의 공배수입니다.\n",
      "240는 3과 5의 공배수입니다.\n",
      "255는 3과 5의 공배수입니다.\n",
      "270는 3과 5의 공배수입니다.\n",
      "285는 3과 5의 공배수입니다.\n",
      "300는 3과 5의 공배수입니다.\n",
      "315는 3과 5의 공배수입니다.\n",
      "330는 3과 5의 공배수입니다.\n",
      "345는 3과 5의 공배수입니다.\n",
      "360는 3과 5의 공배수입니다.\n",
      "375는 3과 5의 공배수입니다.\n",
      "390는 3과 5의 공배수입니다.\n",
      "405는 3과 5의 공배수입니다.\n",
      "420는 3과 5의 공배수입니다.\n",
      "435는 3과 5의 공배수입니다.\n",
      "450는 3과 5의 공배수입니다.\n",
      "465는 3과 5의 공배수입니다.\n",
      "480는 3과 5의 공배수입니다.\n",
      "495는 3과 5의 공배수입니다.\n",
      "510는 3과 5의 공배수입니다.\n",
      "525는 3과 5의 공배수입니다.\n",
      "540는 3과 5의 공배수입니다.\n",
      "555는 3과 5의 공배수입니다.\n",
      "570는 3과 5의 공배수입니다.\n",
      "585는 3과 5의 공배수입니다.\n",
      "600는 3과 5의 공배수입니다.\n",
      "615는 3과 5의 공배수입니다.\n",
      "630는 3과 5의 공배수입니다.\n",
      "645는 3과 5의 공배수입니다.\n",
      "660는 3과 5의 공배수입니다.\n",
      "675는 3과 5의 공배수입니다.\n",
      "690는 3과 5의 공배수입니다.\n",
      "705는 3과 5의 공배수입니다.\n",
      "720는 3과 5의 공배수입니다.\n",
      "735는 3과 5의 공배수입니다.\n",
      "750는 3과 5의 공배수입니다.\n",
      "765는 3과 5의 공배수입니다.\n",
      "780는 3과 5의 공배수입니다.\n",
      "795는 3과 5의 공배수입니다.\n",
      "810는 3과 5의 공배수입니다.\n",
      "825는 3과 5의 공배수입니다.\n",
      "840는 3과 5의 공배수입니다.\n",
      "855는 3과 5의 공배수입니다.\n",
      "870는 3과 5의 공배수입니다.\n",
      "885는 3과 5의 공배수입니다.\n",
      "900는 3과 5의 공배수입니다.\n",
      "915는 3과 5의 공배수입니다.\n",
      "930는 3과 5의 공배수입니다.\n",
      "945는 3과 5의 공배수입니다.\n",
      "960는 3과 5의 공배수입니다.\n",
      "975는 3과 5의 공배수입니다.\n",
      "990는 3과 5의 공배수입니다.\n"
     ]
    }
   ],
   "source": [
    "def comMul(num1, num2): # 함수 정의 시 반드시 'def' 사용\n",
    "    for i in range(1,1001):\n",
    "        if i % num1 == 0 and i % num2 == 0:  # num1 과 num2로 나누어지는 수 찾기\n",
    "            print(f'{i}는 {num1}과 {num2}의 공배수입니다.')\n",
    "comMul(3, 5)"
   ]
  },
  {
   "cell_type": "code",
   "execution_count": null,
   "metadata": {},
   "outputs": [
    {
     "name": "stdout",
     "output_type": "stream",
     "text": [
      "['4', '5']\n",
      "4 5\n"
     ]
    }
   ],
   "source": [
    "nums = input('두 수 입력.. 예(2,3)')\n",
    "nums = nums.split(',')\n",
    "print(nums)\n",
    "num1, num2 = int(nums[0]), int(nums[1])\n",
    "print(num1, num2)\n"
   ]
  },
  {
   "cell_type": "markdown",
   "metadata": {},
   "source": [
    "# 튜플"
   ]
  },
  {
   "cell_type": "code",
   "execution_count": 140,
   "metadata": {},
   "outputs": [
    {
     "data": {
      "text/plain": [
       "tuple"
      ]
     },
     "execution_count": 140,
     "metadata": {},
     "output_type": "execute_result"
    }
   ],
   "source": [
    "tuple = (1, 2, 3)\n",
    "type(tuple[:4])"
   ]
  },
  {
   "cell_type": "code",
   "execution_count": null,
   "metadata": {},
   "outputs": [
    {
     "ename": "TypeError",
     "evalue": "'tuple' object does not support item assignment",
     "output_type": "error",
     "traceback": [
      "\u001b[1;31m---------------------------------------------------------------------------\u001b[0m",
      "\u001b[1;31mTypeError\u001b[0m                                 Traceback (most recent call last)",
      "Cell \u001b[1;32mIn[142], line 1\u001b[0m\n\u001b[1;32m----> 1\u001b[0m \u001b[38;5;28;43mtuple\u001b[39;49m\u001b[43m[\u001b[49m\u001b[38;5;241;43m2\u001b[39;49m\u001b[43m]\u001b[49m\u001b[38;5;241m=\u001b[39m\u001b[38;5;241m5\u001b[39m\n\u001b[0;32m      2\u001b[0m \u001b[38;5;28mtuple\u001b[39m\n",
      "\u001b[1;31mTypeError\u001b[0m: 'tuple' object does not support item assignment"
     ]
    }
   ],
   "source": [
    "# 한번 저장한 튜플 요소 값은 변경 xxx\n",
    "tuple[2]=5\n",
    "tuple"
   ]
  },
  {
   "cell_type": "code",
   "execution_count": 143,
   "metadata": {},
   "outputs": [
    {
     "data": {
      "text/plain": [
       "[1, 2, 3]"
      ]
     },
     "execution_count": 143,
     "metadata": {},
     "output_type": "execute_result"
    }
   ],
   "source": [
    "tuple=list(tuple)\n",
    "tuple"
   ]
  },
  {
   "cell_type": "code",
   "execution_count": 145,
   "metadata": {},
   "outputs": [
    {
     "data": {
      "text/plain": [
       "[1, 2, 6]"
      ]
     },
     "execution_count": 145,
     "metadata": {},
     "output_type": "execute_result"
    }
   ],
   "source": [
    "tuple[2]=6\n",
    "tuple"
   ]
  },
  {
   "cell_type": "code",
   "execution_count": 146,
   "metadata": {},
   "outputs": [
    {
     "name": "stdout",
     "output_type": "stream",
     "text": [
      "10 20\n"
     ]
    }
   ],
   "source": [
    "a, b = [10, 20]\n",
    "print(a,b)"
   ]
  },
  {
   "cell_type": "code",
   "execution_count": 150,
   "metadata": {},
   "outputs": [
    {
     "data": {
      "text/plain": [
       "10"
      ]
     },
     "execution_count": 150,
     "metadata": {},
     "output_type": "execute_result"
    }
   ],
   "source": [
    "[a, b] = 10, 20\n",
    "a"
   ]
  },
  {
   "cell_type": "code",
   "execution_count": 155,
   "metadata": {},
   "outputs": [
    {
     "name": "stdout",
     "output_type": "stream",
     "text": [
      "2\n",
      "(2,)\n",
      "<class 'int'>\n",
      "<class 'tuple'>\n"
     ]
    }
   ],
   "source": [
    "a = 2\n",
    "b = 2, \n",
    "print(a)\n",
    "print(b)\n",
    "print(type(a))\n",
    "print(type(b))"
   ]
  },
  {
   "cell_type": "code",
   "execution_count": 156,
   "metadata": {},
   "outputs": [
    {
     "data": {
      "text/plain": [
       "4"
      ]
     },
     "execution_count": 156,
     "metadata": {},
     "output_type": "execute_result"
    }
   ],
   "source": [
    "b[0] + 2"
   ]
  },
  {
   "cell_type": "code",
   "execution_count": null,
   "metadata": {},
   "outputs": [],
   "source": [
    "a, b = 20, 30"
   ]
  },
  {
   "cell_type": "code",
   "execution_count": null,
   "metadata": {},
   "outputs": [
    {
     "data": {
      "text/plain": [
       "30"
      ]
     },
     "execution_count": 165,
     "metadata": {},
     "output_type": "execute_result"
    }
   ],
   "source": [
    "a, b = b, a  # 두 변수의 값을 서로 교환 할 때\n",
    "a"
   ]
  },
  {
   "cell_type": "markdown",
   "metadata": {},
   "source": [
    "# 튜플 함수 활용"
   ]
  },
  {
   "cell_type": "code",
   "execution_count": null,
   "metadata": {},
   "outputs": [],
   "source": [
    "def test():\n",
    "    return (10, 20, 30)"
   ]
  },
  {
   "cell_type": "code",
   "execution_count": 177,
   "metadata": {},
   "outputs": [
    {
     "name": "stdout",
     "output_type": "stream",
     "text": [
      "10\n",
      "[20, 30]\n",
      "40\n"
     ]
    },
    {
     "data": {
      "text/plain": [
       "(None, None)"
      ]
     },
     "execution_count": 177,
     "metadata": {},
     "output_type": "execute_result"
    }
   ],
   "source": [
    "a, *b, c = test()\n",
    "print(a)\n",
    "print(b), print(c)"
   ]
  },
  {
   "cell_type": "code",
   "execution_count": 185,
   "metadata": {},
   "outputs": [
    {
     "name": "stdout",
     "output_type": "stream",
     "text": [
      "# 함수의 실행결과\n",
      "map(power, list_input_a) :  <map object at 0x000002762B52BAF0>\n",
      "map(power, list_input_a) :  [1, 4, 9, 16, 25]\n",
      "\n",
      "#filter() 함수의 실행결과\n",
      "filter(under_3, output_b) : <filter object at 0x000002762CE79BA0>\n",
      "filter(under_3, output_b) : [1, 2]\n"
     ]
    }
   ],
   "source": [
    "# 함수 선언\n",
    "def power(item):\n",
    "    return item * item\n",
    "def under_3(item):\n",
    "    return item < 3\n",
    "\n",
    "# 변수 선언\n",
    "list_input_a = [1, 2, 3, 4, 5]\n",
    "\n",
    "# map 함수 사용\n",
    "output_a = map(power, list_input_a)\n",
    "print(\"# 함수의 실행결과\")\n",
    "print(\"map(power, list_input_a) : \",output_a)\n",
    "print(\"map(power, list_input_a) : \",list(output_a))\n",
    "print()\n",
    "\n",
    "# filter 함수 사용\n",
    "output_b = filter(under_3, list_input_a)\n",
    "print('#filter() 함수의 실행결과')\n",
    "print('filter(under_3, output_b) :', output_b)\n",
    "print('filter(under_3, output_b) :', list(output_b))\n"
   ]
  },
  {
   "cell_type": "code",
   "execution_count": 190,
   "metadata": {},
   "outputs": [
    {
     "name": "stdout",
     "output_type": "stream",
     "text": [
      "#map() 함수의 실행결과\n",
      "map(power, list_input_a): <map object at 0x000002762B5DB070>\n",
      "map(power, list_input_a): [1, 4, 9, 16, 25]\n",
      "\n",
      "#filter() 함수의 실행결과\n",
      "filter(under_3, output_b): <filter object at 0x000002762CE8C640>\n",
      "filter(under_3, output_b): [1, 2]\n"
     ]
    }
   ],
   "source": [
    "# 함수 선언\n",
    "power = lambda x: x*x\n",
    "under_3 = lambda x : x < 3\n",
    "\n",
    "# 변수를 선언합니다.\n",
    "list_input_a = [1, 2, 3, 4, 5]\n",
    "\n",
    "# map() 함수를 사용합니다.\n",
    "output_a = map(power, list_input_a)\n",
    "print('#map() 함수의 실행결과')\n",
    "print('map(power, list_input_a):', output_a)\n",
    "print('map(power, list_input_a):', list(output_a))\n",
    "print()\n",
    "\n",
    "#filter 함수를 사용합니다.\n",
    "output_b = filter(under_3, list_input_a)\n",
    "print('#filter() 함수의 실행결과')\n",
    "print('filter(under_3, output_b):', output_b)\n",
    "print('filter(under_3, output_b):', list(output_b))"
   ]
  },
  {
   "cell_type": "markdown",
   "metadata": {},
   "source": [
    "# 파일 처리\n",
    "- 파일에 데이터를 쓰고 읽기"
   ]
  },
  {
   "cell_type": "code",
   "execution_count": 196,
   "metadata": {},
   "outputs": [],
   "source": [
    "file = open('basic.txt', 'w', encoding=\"utf-8\")\n",
    "\n",
    "file.write('hello world')\n",
    "\n",
    "file.close()"
   ]
  },
  {
   "cell_type": "code",
   "execution_count": 212,
   "metadata": {},
   "outputs": [
    {
     "name": "stdout",
     "output_type": "stream",
     "text": [
      "hello\n",
      "안녕\n"
     ]
    }
   ],
   "source": [
    "# 파일 데이터 읽기\n",
    "file = open('datas/basic.txt', 'r', encoding=\"utf-8\")\n",
    "\n",
    "print(file.read())\n"
   ]
  },
  {
   "cell_type": "code",
   "execution_count": 211,
   "metadata": {},
   "outputs": [],
   "source": [
    "# 파일 위치지정, 파일뒤에 추가하기 a 모드\n",
    "file = open('datas/basic.txt', 'a', encoding=\"utf-8\")\n",
    "\n",
    "file.write('\\n안녕')\n",
    "\n",
    "file.close()\n"
   ]
  },
  {
   "cell_type": "code",
   "execution_count": 215,
   "metadata": {},
   "outputs": [
    {
     "ename": "UnsupportedOperation",
     "evalue": "not readable",
     "output_type": "error",
     "traceback": [
      "\u001b[1;31m---------------------------------------------------------------------------\u001b[0m",
      "\u001b[1;31mUnsupportedOperation\u001b[0m                      Traceback (most recent call last)",
      "Cell \u001b[1;32mIn[215], line 2\u001b[0m\n\u001b[0;32m      1\u001b[0m \u001b[38;5;28;01mwith\u001b[39;00m \u001b[38;5;28mopen\u001b[39m(\u001b[38;5;124m'\u001b[39m\u001b[38;5;124mdatas/basic.txt\u001b[39m\u001b[38;5;124m'\u001b[39m, \u001b[38;5;124m'\u001b[39m\u001b[38;5;124mw\u001b[39m\u001b[38;5;124m'\u001b[39m, encoding\u001b[38;5;241m=\u001b[39m\u001b[38;5;124m\"\u001b[39m\u001b[38;5;124mutf-8\u001b[39m\u001b[38;5;124m\"\u001b[39m) \u001b[38;5;28;01mas\u001b[39;00m file:\n\u001b[1;32m----> 2\u001b[0m     \u001b[38;5;28mprint\u001b[39m(\u001b[43mfile\u001b[49m\u001b[38;5;241;43m.\u001b[39;49m\u001b[43mread\u001b[49m\u001b[43m(\u001b[49m\u001b[43m)\u001b[49m)\n\u001b[0;32m      3\u001b[0m     \u001b[38;5;28mprint\u001b[39m(\u001b[38;5;28mtype\u001b[39m(file\u001b[38;5;241m.\u001b[39mread()))\n",
      "\u001b[1;31mUnsupportedOperation\u001b[0m: not readable"
     ]
    }
   ],
   "source": [
    "with open('datas/basic.txt', 'w', encoding=\"utf-8\") as file:\n",
    "    print(file.read())\n",
    "    print(type(file.read()))"
   ]
  },
  {
   "cell_type": "markdown",
   "metadata": {},
   "source": [
    "# 파일 처리 예제"
   ]
  },
  {
   "cell_type": "code",
   "execution_count": 217,
   "metadata": {},
   "outputs": [
    {
     "data": {
      "text/plain": [
       "['1', '2', '3', '1', '2', '4', '1', '2']"
      ]
     },
     "execution_count": 217,
     "metadata": {},
     "output_type": "execute_result"
    }
   ],
   "source": [
    "a = list('12312412')\n",
    "a"
   ]
  },
  {
   "cell_type": "code",
   "execution_count": 233,
   "metadata": {},
   "outputs": [
    {
     "name": "stdout",
     "output_type": "stream",
     "text": [
      "바피, 159, 76\n"
     ]
    }
   ],
   "source": [
    "import random\n",
    "H = list('가나다라마바사아자차카타파하기니디리미비시이지치키티피히')\n",
    "with open('info.csv', 'w', encoding='utf-8') as file:\n",
    "    for i in range (1000):\n",
    "        name = random.choice(H) + random.choice(H)\n",
    "    weight = random.randrange(40, 100)\n",
    "    height = random.randrange(140,200)\n",
    "\n",
    "    file.write(f'{name}, {height}, {weight}')\n",
    "\n",
    "with open('info.csv', 'r', encoding='utf-8') as file:\n",
    "    a = file.read()\n",
    "print(a)"
   ]
  },
  {
   "cell_type": "code",
   "execution_count": null,
   "metadata": {},
   "outputs": [],
   "source": [
    "with open('info.csv', 'r', encoding='utf-8') as f:\n",
    "    for line in f:\n",
    "        (name, weight, ehight) = line.strip(.split(','))\n",
    "        if (not name) or (not weight) or (not height):\n",
    "            continue\n",
    "        bmi = int(weight) / ((int(height)/100)**2)\n",
    "        "
   ]
  },
  {
   "cell_type": "code",
   "execution_count": 235,
   "metadata": {},
   "outputs": [
    {
     "name": "stdout",
     "output_type": "stream",
     "text": [
      "aaa\n",
      "bbb\n"
     ]
    }
   ],
   "source": [
    "print('\\n'.join([\"aaa\", \"bbb\"]))"
   ]
  },
  {
   "cell_type": "markdown",
   "metadata": {},
   "source": [
    "# 문제 1"
   ]
  },
  {
   "cell_type": "code",
   "execution_count": null,
   "metadata": {},
   "outputs": [
    {
     "name": "stdout",
     "output_type": "stream",
     "text": [
      "1::2::3::4::5::6\n"
     ]
    }
   ],
   "source": [
    "# map 함수, 리스트\n",
    "# a = str(1)\n",
    "# a\n",
    "numbers = [1, 2, 3, 4, 5, 6]\n",
    "numbers = list(map(str, numbers))\n",
    "# numbers = list(map(lambda x : str(x), numbers))\n",
    "# \"::\".join() # 문자열 요소를 가진 리스트를 전달해야함\n",
    "print (\"::\".join(numbers))"
   ]
  },
  {
   "cell_type": "code",
   "execution_count": 244,
   "metadata": {},
   "outputs": [
    {
     "name": "stdout",
     "output_type": "stream",
     "text": [
      "1::2::3::4::5\n"
     ]
    }
   ],
   "source": [
    "numbers = [1, 2, 3, 4, 5]\n",
    "numbers = list(map(str, numbers))\n",
    "print(\"::\".join(numbers))"
   ]
  },
  {
   "cell_type": "code",
   "execution_count": 248,
   "metadata": {},
   "outputs": [
    {
     "name": "stdout",
     "output_type": "stream",
     "text": [
      "나는 파이썬이 어렵습니다 .\n"
     ]
    }
   ],
   "source": [
    "a = ['나는', '파이썬이', '어렵습니다', '.']\n",
    "print(\" \".join(a))"
   ]
  },
  {
   "cell_type": "markdown",
   "metadata": {},
   "source": [
    "# 문제2"
   ]
  },
  {
   "cell_type": "code",
   "execution_count": 253,
   "metadata": {},
   "outputs": [
    {
     "name": "stdout",
     "output_type": "stream",
     "text": [
      "# 홀수만 추출하기\n",
      "[1, 3, 5, 7, 9]\n",
      "\n",
      "# 3 이상, 7미만 추출하기\n",
      "[3, 4, 5, 6]\n",
      "\n",
      "# 제곱해서 50미만 추출하기\n",
      "[1, 2, 3, 4, 5, 6, 7]\n",
      "\n"
     ]
    }
   ],
   "source": [
    "numbers = list(range(1, 10 + 1))\n",
    "\n",
    "print('# 홀수만 추출하기')\n",
    "print(list(filter(lambda x: x% 2 ==1 , numbers)))\n",
    "print()\n",
    "print('# 3 이상, 7미만 추출하기')\n",
    "print(list(filter(lambda x: 3 <= x <7 , numbers)))\n",
    "print()\n",
    "print('# 제곱해서 50미만 추출하기')\n",
    "print(list(filter(lambda x: x**2 < 50 , numbers)))\n",
    "print()\n"
   ]
  },
  {
   "cell_type": "markdown",
   "metadata": {},
   "source": [
    "# 문제3"
   ]
  },
  {
   "cell_type": "code",
   "execution_count": 256,
   "metadata": {},
   "outputs": [],
   "source": [
    "import random\n",
    "H = list('가나다라마바사아자차카타파하기니디리미비시이지치키티피히')\n",
    "with open('info.csv', 'w', encoding='utf-8') as file:\n",
    "    for i in range (1000):\n",
    "        name = random.choice(H) + random.choice(H)\n",
    "    weight = random.randrange(40, 100)\n",
    "    height = random.randrange(140,200)\n",
    "\n",
    "    file.write(f'{name}, {height}, {weight}')\n",
    "\n",
    "with open('info.csv', 'r', encoding='utf-8') as file:\n",
    "    a = file.read()\n",
    "    \n",
    "\n"
   ]
  },
  {
   "cell_type": "code",
   "execution_count": null,
   "metadata": {},
   "outputs": [],
   "source": [
    "import csv\n",
    "file_name = \"email.csv\"\n",
    "with open('email.csv', 'w', encoding='utf-8') as file:\n",
    "    login email, identifier, first name, last name\n",
    "    laura@example.com 2070 laura grey"
   ]
  }
 ],
 "metadata": {
  "kernelspec": {
   "display_name": "Python 3",
   "language": "python",
   "name": "python3"
  },
  "language_info": {
   "codemirror_mode": {
    "name": "ipython",
    "version": 3
   },
   "file_extension": ".py",
   "mimetype": "text/x-python",
   "name": "python",
   "nbconvert_exporter": "python",
   "pygments_lexer": "ipython3",
   "version": "3.12.8"
  }
 },
 "nbformat": 4,
 "nbformat_minor": 2
}
